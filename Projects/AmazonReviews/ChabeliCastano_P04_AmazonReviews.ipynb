{
  "nbformat": 4,
  "nbformat_minor": 0,
  "metadata": {
    "colab": {
      "provenance": [],
      "authorship_tag": "ABX9TyPjh7WU0W5V0CQmsVYnGj7c",
      "include_colab_link": true
    },
    "kernelspec": {
      "name": "python3",
      "display_name": "Python 3"
    },
    "language_info": {
      "name": "python"
    }
  },
  "cells": [
    {
      "cell_type": "markdown",
      "metadata": {
        "id": "view-in-github",
        "colab_type": "text"
      },
      "source": [
        "<a href=\"https://colab.research.google.com/github/chabelicastano/cap4770-spring23/blob/main/Projects/AmazonReviews/ChabeliCastano_P04_AmazonReviews.ipynb\" target=\"_parent\"><img src=\"https://colab.research.google.com/assets/colab-badge.svg\" alt=\"Open In Colab\"/></a>"
      ]
    },
    {
      "cell_type": "code",
      "execution_count": 1,
      "metadata": {
        "colab": {
          "base_uri": "https://localhost:8080/",
          "height": 35
        },
        "id": "Gz02uOVtwIQR",
        "outputId": "01b6f2fe-458b-4d72-f0b2-85fef269c908"
      },
      "outputs": [
        {
          "output_type": "execute_result",
          "data": {
            "text/plain": [
              "'2.12.0'"
            ],
            "application/vnd.google.colaboratory.intrinsic+json": {
              "type": "string"
            }
          },
          "metadata": {},
          "execution_count": 1
        }
      ],
      "source": [
        "# keras import\n",
        "import keras\n",
        "keras.__version__"
      ]
    },
    {
      "cell_type": "code",
      "source": [
        "# get the training data\n",
        "!wget http://34.82.108.37/amazonReviewsTrain.csv.zip"
      ],
      "metadata": {
        "colab": {
          "base_uri": "https://localhost:8080/"
        },
        "id": "_uKrZiSawegC",
        "outputId": "335ea099-79cf-4690-ee2e-7b244d63bcd2"
      },
      "execution_count": 2,
      "outputs": [
        {
          "output_type": "stream",
          "name": "stdout",
          "text": [
            "--2023-04-26 22:52:26--  http://34.82.108.37/amazonReviewsTrain.csv.zip\n",
            "Connecting to 34.82.108.37:80... connected.\n",
            "HTTP request sent, awaiting response... 200 OK\n",
            "Length: 39456705 (38M) [application/zip]\n",
            "Saving to: ‘amazonReviewsTrain.csv.zip’\n",
            "\n",
            "amazonReviewsTrain. 100%[===================>]  37.63M  29.5MB/s    in 1.3s    \n",
            "\n",
            "2023-04-26 22:52:28 (29.5 MB/s) - ‘amazonReviewsTrain.csv.zip’ saved [39456705/39456705]\n",
            "\n"
          ]
        }
      ]
    },
    {
      "cell_type": "code",
      "source": [
        "# dataframe\n",
        "import pandas as pd\n",
        "training_data = pd.read_csv('amazonReviewsTrain.csv.zip')\n",
        "training_data"
      ],
      "metadata": {
        "colab": {
          "base_uri": "https://localhost:8080/",
          "height": 1000
        },
        "id": "j9-9xl90xMLB",
        "outputId": "dc383776-0dd7-431b-dc8a-5aa67ac80391"
      },
      "execution_count": 58,
      "outputs": [
        {
          "output_type": "stream",
          "name": "stderr",
          "text": [
            "<ipython-input-58-22bbc294c687>:3: DtypeWarning: Columns (8) have mixed types. Specify dtype option on import or set low_memory=False.\n",
            "  training_data = pd.read_csv('amazonReviewsTrain.csv.zip')\n"
          ]
        },
        {
          "output_type": "execute_result",
          "data": {
            "text/plain": [
              "        verified   reviewTime      reviewerID        asin  \\\n",
              "0           True   05 4, 2017  A2QNLVLQHW6OOC  B00NEZNT74   \n",
              "1           True   12 1, 2014  A32SHV461SUWNQ  B002Q0WTCE   \n",
              "2           True  12 23, 2015  A2SKHG5ULPYIMC  B0002GFP9I   \n",
              "3           True   09 4, 2013  A2MFJ6C67AL015  B003AJVKDO   \n",
              "4           True  08 28, 2015   ACYCDUUE9A3T2  B004XNK7AI   \n",
              "...          ...          ...             ...         ...   \n",
              "221387      True  08 16, 2015  A1TWEBKVZDD2JJ  B0002H05BA   \n",
              "221388      True   01 8, 2012   AP32V2GXAK9VM  B000WME8C2   \n",
              "221389      True  10 22, 2017   A4BIHE0AYAMTP  B00MD7S06O   \n",
              "221390      True   01 9, 2016  A3OCE03MZ2PC2J  B0017PLYCK   \n",
              "221391      True  01 15, 2013  A3T3KPW2QE866W  B0002II7H8   \n",
              "\n",
              "                               reviewerName  \\\n",
              "0                                  Jason L.   \n",
              "1                                Richard C.   \n",
              "2       BellaLatinaReina-ACP Zero-Nine-Five   \n",
              "3                                    BOS116   \n",
              "4                              jack edwards   \n",
              "...                                     ...   \n",
              "221387                           Obey Giant   \n",
              "221388                                 Grey   \n",
              "221389                            divbyzero   \n",
              "221390                               scaper   \n",
              "221391                               leelee   \n",
              "\n",
              "                                               reviewText  \\\n",
              "0              Have 30 of these in operation great lights   \n",
              "1       Good replacement.  I prefer my Rovner L5, but ...   \n",
              "2       My son & band teacher loves it. Really nice. B...   \n",
              "3       This was a gift for a friend who is a fan of t...   \n",
              "4       Wish it would attach to my violin a little eas...   \n",
              "...                                                   ...   \n",
              "221387  Still hard to beat D'Addario. Hope they keep i...   \n",
              "221388  Ortofon hits the nail right on the head with t...   \n",
              "221389  This is my absolute favorite guitar strap amon...   \n",
              "221390                                               nice   \n",
              "221391  This polishing cloth is well-made and a great ...   \n",
              "\n",
              "                                                  summary  unixReviewTime  \\\n",
              "0                                              Five Stars      1493856000   \n",
              "1                 Good replacement. I prefer my Rovner L5      1417392000   \n",
              "2                    Really Helps With Their Practice Pad      1450828800   \n",
              "3                                            Guitar picks      1378252800   \n",
              "4       ... to my violin a little easier but it works ...      1440720000   \n",
              "...                                                   ...             ...   \n",
              "221387                                         Five Stars      1439683200   \n",
              "221388                       Headshell Impovment?  YES!!!      1325980800   \n",
              "221389                            ecclesiastical / hippie      1508630400   \n",
              "221390                                         Five Stars      1452297600   \n",
              "221391                              Great polishing cloth      1358208000   \n",
              "\n",
              "       vote                                              style  \\\n",
              "0       NaN                                  {'Size:': ' 4PC'}   \n",
              "1       NaN                                                NaN   \n",
              "2       NaN                                                NaN   \n",
              "3       NaN                                {'Color:': ' Logo'}   \n",
              "4       NaN                        {'Color:': ' Black - SN-5'}   \n",
              "...     ...                                                ...   \n",
              "221387  NaN  {'Size:': ' Regular Light, 10-46', 'Style:': '...   \n",
              "221388  7.0                               {'Color:': ' Black'}   \n",
              "221389  NaN                                                NaN   \n",
              "221390  NaN                                                NaN   \n",
              "221391  NaN                                                NaN   \n",
              "\n",
              "                                                    image    rating  \n",
              "0                                                     NaN  positive  \n",
              "1                                                     NaN  positive  \n",
              "2                                                     NaN  positive  \n",
              "3                                                     NaN  positive  \n",
              "4                                                     NaN  positive  \n",
              "...                                                   ...       ...  \n",
              "221387                                                NaN  positive  \n",
              "221388                                                NaN  positive  \n",
              "221389  ['https://images-na.ssl-images-amazon.com/imag...  positive  \n",
              "221390                                                NaN  positive  \n",
              "221391                                                NaN  positive  \n",
              "\n",
              "[221392 rows x 12 columns]"
            ],
            "text/html": [
              "\n",
              "  <div id=\"df-e35b9a5b-d6cf-4248-9b82-ac362e1372c8\">\n",
              "    <div class=\"colab-df-container\">\n",
              "      <div>\n",
              "<style scoped>\n",
              "    .dataframe tbody tr th:only-of-type {\n",
              "        vertical-align: middle;\n",
              "    }\n",
              "\n",
              "    .dataframe tbody tr th {\n",
              "        vertical-align: top;\n",
              "    }\n",
              "\n",
              "    .dataframe thead th {\n",
              "        text-align: right;\n",
              "    }\n",
              "</style>\n",
              "<table border=\"1\" class=\"dataframe\">\n",
              "  <thead>\n",
              "    <tr style=\"text-align: right;\">\n",
              "      <th></th>\n",
              "      <th>verified</th>\n",
              "      <th>reviewTime</th>\n",
              "      <th>reviewerID</th>\n",
              "      <th>asin</th>\n",
              "      <th>reviewerName</th>\n",
              "      <th>reviewText</th>\n",
              "      <th>summary</th>\n",
              "      <th>unixReviewTime</th>\n",
              "      <th>vote</th>\n",
              "      <th>style</th>\n",
              "      <th>image</th>\n",
              "      <th>rating</th>\n",
              "    </tr>\n",
              "  </thead>\n",
              "  <tbody>\n",
              "    <tr>\n",
              "      <th>0</th>\n",
              "      <td>True</td>\n",
              "      <td>05 4, 2017</td>\n",
              "      <td>A2QNLVLQHW6OOC</td>\n",
              "      <td>B00NEZNT74</td>\n",
              "      <td>Jason L.</td>\n",
              "      <td>Have 30 of these in operation great lights</td>\n",
              "      <td>Five Stars</td>\n",
              "      <td>1493856000</td>\n",
              "      <td>NaN</td>\n",
              "      <td>{'Size:': ' 4PC'}</td>\n",
              "      <td>NaN</td>\n",
              "      <td>positive</td>\n",
              "    </tr>\n",
              "    <tr>\n",
              "      <th>1</th>\n",
              "      <td>True</td>\n",
              "      <td>12 1, 2014</td>\n",
              "      <td>A32SHV461SUWNQ</td>\n",
              "      <td>B002Q0WTCE</td>\n",
              "      <td>Richard C.</td>\n",
              "      <td>Good replacement.  I prefer my Rovner L5, but ...</td>\n",
              "      <td>Good replacement. I prefer my Rovner L5</td>\n",
              "      <td>1417392000</td>\n",
              "      <td>NaN</td>\n",
              "      <td>NaN</td>\n",
              "      <td>NaN</td>\n",
              "      <td>positive</td>\n",
              "    </tr>\n",
              "    <tr>\n",
              "      <th>2</th>\n",
              "      <td>True</td>\n",
              "      <td>12 23, 2015</td>\n",
              "      <td>A2SKHG5ULPYIMC</td>\n",
              "      <td>B0002GFP9I</td>\n",
              "      <td>BellaLatinaReina-ACP Zero-Nine-Five</td>\n",
              "      <td>My son &amp; band teacher loves it. Really nice. B...</td>\n",
              "      <td>Really Helps With Their Practice Pad</td>\n",
              "      <td>1450828800</td>\n",
              "      <td>NaN</td>\n",
              "      <td>NaN</td>\n",
              "      <td>NaN</td>\n",
              "      <td>positive</td>\n",
              "    </tr>\n",
              "    <tr>\n",
              "      <th>3</th>\n",
              "      <td>True</td>\n",
              "      <td>09 4, 2013</td>\n",
              "      <td>A2MFJ6C67AL015</td>\n",
              "      <td>B003AJVKDO</td>\n",
              "      <td>BOS116</td>\n",
              "      <td>This was a gift for a friend who is a fan of t...</td>\n",
              "      <td>Guitar picks</td>\n",
              "      <td>1378252800</td>\n",
              "      <td>NaN</td>\n",
              "      <td>{'Color:': ' Logo'}</td>\n",
              "      <td>NaN</td>\n",
              "      <td>positive</td>\n",
              "    </tr>\n",
              "    <tr>\n",
              "      <th>4</th>\n",
              "      <td>True</td>\n",
              "      <td>08 28, 2015</td>\n",
              "      <td>ACYCDUUE9A3T2</td>\n",
              "      <td>B004XNK7AI</td>\n",
              "      <td>jack edwards</td>\n",
              "      <td>Wish it would attach to my violin a little eas...</td>\n",
              "      <td>... to my violin a little easier but it works ...</td>\n",
              "      <td>1440720000</td>\n",
              "      <td>NaN</td>\n",
              "      <td>{'Color:': ' Black - SN-5'}</td>\n",
              "      <td>NaN</td>\n",
              "      <td>positive</td>\n",
              "    </tr>\n",
              "    <tr>\n",
              "      <th>...</th>\n",
              "      <td>...</td>\n",
              "      <td>...</td>\n",
              "      <td>...</td>\n",
              "      <td>...</td>\n",
              "      <td>...</td>\n",
              "      <td>...</td>\n",
              "      <td>...</td>\n",
              "      <td>...</td>\n",
              "      <td>...</td>\n",
              "      <td>...</td>\n",
              "      <td>...</td>\n",
              "      <td>...</td>\n",
              "    </tr>\n",
              "    <tr>\n",
              "      <th>221387</th>\n",
              "      <td>True</td>\n",
              "      <td>08 16, 2015</td>\n",
              "      <td>A1TWEBKVZDD2JJ</td>\n",
              "      <td>B0002H05BA</td>\n",
              "      <td>Obey Giant</td>\n",
              "      <td>Still hard to beat D'Addario. Hope they keep i...</td>\n",
              "      <td>Five Stars</td>\n",
              "      <td>1439683200</td>\n",
              "      <td>NaN</td>\n",
              "      <td>{'Size:': ' Regular Light, 10-46', 'Style:': '...</td>\n",
              "      <td>NaN</td>\n",
              "      <td>positive</td>\n",
              "    </tr>\n",
              "    <tr>\n",
              "      <th>221388</th>\n",
              "      <td>True</td>\n",
              "      <td>01 8, 2012</td>\n",
              "      <td>AP32V2GXAK9VM</td>\n",
              "      <td>B000WME8C2</td>\n",
              "      <td>Grey</td>\n",
              "      <td>Ortofon hits the nail right on the head with t...</td>\n",
              "      <td>Headshell Impovment?  YES!!!</td>\n",
              "      <td>1325980800</td>\n",
              "      <td>7.0</td>\n",
              "      <td>{'Color:': ' Black'}</td>\n",
              "      <td>NaN</td>\n",
              "      <td>positive</td>\n",
              "    </tr>\n",
              "    <tr>\n",
              "      <th>221389</th>\n",
              "      <td>True</td>\n",
              "      <td>10 22, 2017</td>\n",
              "      <td>A4BIHE0AYAMTP</td>\n",
              "      <td>B00MD7S06O</td>\n",
              "      <td>divbyzero</td>\n",
              "      <td>This is my absolute favorite guitar strap amon...</td>\n",
              "      <td>ecclesiastical / hippie</td>\n",
              "      <td>1508630400</td>\n",
              "      <td>NaN</td>\n",
              "      <td>NaN</td>\n",
              "      <td>['https://images-na.ssl-images-amazon.com/imag...</td>\n",
              "      <td>positive</td>\n",
              "    </tr>\n",
              "    <tr>\n",
              "      <th>221390</th>\n",
              "      <td>True</td>\n",
              "      <td>01 9, 2016</td>\n",
              "      <td>A3OCE03MZ2PC2J</td>\n",
              "      <td>B0017PLYCK</td>\n",
              "      <td>scaper</td>\n",
              "      <td>nice</td>\n",
              "      <td>Five Stars</td>\n",
              "      <td>1452297600</td>\n",
              "      <td>NaN</td>\n",
              "      <td>NaN</td>\n",
              "      <td>NaN</td>\n",
              "      <td>positive</td>\n",
              "    </tr>\n",
              "    <tr>\n",
              "      <th>221391</th>\n",
              "      <td>True</td>\n",
              "      <td>01 15, 2013</td>\n",
              "      <td>A3T3KPW2QE866W</td>\n",
              "      <td>B0002II7H8</td>\n",
              "      <td>leelee</td>\n",
              "      <td>This polishing cloth is well-made and a great ...</td>\n",
              "      <td>Great polishing cloth</td>\n",
              "      <td>1358208000</td>\n",
              "      <td>NaN</td>\n",
              "      <td>NaN</td>\n",
              "      <td>NaN</td>\n",
              "      <td>positive</td>\n",
              "    </tr>\n",
              "  </tbody>\n",
              "</table>\n",
              "<p>221392 rows × 12 columns</p>\n",
              "</div>\n",
              "      <button class=\"colab-df-convert\" onclick=\"convertToInteractive('df-e35b9a5b-d6cf-4248-9b82-ac362e1372c8')\"\n",
              "              title=\"Convert this dataframe to an interactive table.\"\n",
              "              style=\"display:none;\">\n",
              "        \n",
              "  <svg xmlns=\"http://www.w3.org/2000/svg\" height=\"24px\"viewBox=\"0 0 24 24\"\n",
              "       width=\"24px\">\n",
              "    <path d=\"M0 0h24v24H0V0z\" fill=\"none\"/>\n",
              "    <path d=\"M18.56 5.44l.94 2.06.94-2.06 2.06-.94-2.06-.94-.94-2.06-.94 2.06-2.06.94zm-11 1L8.5 8.5l.94-2.06 2.06-.94-2.06-.94L8.5 2.5l-.94 2.06-2.06.94zm10 10l.94 2.06.94-2.06 2.06-.94-2.06-.94-.94-2.06-.94 2.06-2.06.94z\"/><path d=\"M17.41 7.96l-1.37-1.37c-.4-.4-.92-.59-1.43-.59-.52 0-1.04.2-1.43.59L10.3 9.45l-7.72 7.72c-.78.78-.78 2.05 0 2.83L4 21.41c.39.39.9.59 1.41.59.51 0 1.02-.2 1.41-.59l7.78-7.78 2.81-2.81c.8-.78.8-2.07 0-2.86zM5.41 20L4 18.59l7.72-7.72 1.47 1.35L5.41 20z\"/>\n",
              "  </svg>\n",
              "      </button>\n",
              "      \n",
              "  <style>\n",
              "    .colab-df-container {\n",
              "      display:flex;\n",
              "      flex-wrap:wrap;\n",
              "      gap: 12px;\n",
              "    }\n",
              "\n",
              "    .colab-df-convert {\n",
              "      background-color: #E8F0FE;\n",
              "      border: none;\n",
              "      border-radius: 50%;\n",
              "      cursor: pointer;\n",
              "      display: none;\n",
              "      fill: #1967D2;\n",
              "      height: 32px;\n",
              "      padding: 0 0 0 0;\n",
              "      width: 32px;\n",
              "    }\n",
              "\n",
              "    .colab-df-convert:hover {\n",
              "      background-color: #E2EBFA;\n",
              "      box-shadow: 0px 1px 2px rgba(60, 64, 67, 0.3), 0px 1px 3px 1px rgba(60, 64, 67, 0.15);\n",
              "      fill: #174EA6;\n",
              "    }\n",
              "\n",
              "    [theme=dark] .colab-df-convert {\n",
              "      background-color: #3B4455;\n",
              "      fill: #D2E3FC;\n",
              "    }\n",
              "\n",
              "    [theme=dark] .colab-df-convert:hover {\n",
              "      background-color: #434B5C;\n",
              "      box-shadow: 0px 1px 3px 1px rgba(0, 0, 0, 0.15);\n",
              "      filter: drop-shadow(0px 1px 2px rgba(0, 0, 0, 0.3));\n",
              "      fill: #FFFFFF;\n",
              "    }\n",
              "  </style>\n",
              "\n",
              "      <script>\n",
              "        const buttonEl =\n",
              "          document.querySelector('#df-e35b9a5b-d6cf-4248-9b82-ac362e1372c8 button.colab-df-convert');\n",
              "        buttonEl.style.display =\n",
              "          google.colab.kernel.accessAllowed ? 'block' : 'none';\n",
              "\n",
              "        async function convertToInteractive(key) {\n",
              "          const element = document.querySelector('#df-e35b9a5b-d6cf-4248-9b82-ac362e1372c8');\n",
              "          const dataTable =\n",
              "            await google.colab.kernel.invokeFunction('convertToInteractive',\n",
              "                                                     [key], {});\n",
              "          if (!dataTable) return;\n",
              "\n",
              "          const docLinkHtml = 'Like what you see? Visit the ' +\n",
              "            '<a target=\"_blank\" href=https://colab.research.google.com/notebooks/data_table.ipynb>data table notebook</a>'\n",
              "            + ' to learn more about interactive tables.';\n",
              "          element.innerHTML = '';\n",
              "          dataTable['output_type'] = 'display_data';\n",
              "          await google.colab.output.renderOutput(dataTable, element);\n",
              "          const docLink = document.createElement('div');\n",
              "          docLink.innerHTML = docLinkHtml;\n",
              "          element.appendChild(docLink);\n",
              "        }\n",
              "      </script>\n",
              "    </div>\n",
              "  </div>\n",
              "  "
            ]
          },
          "metadata": {},
          "execution_count": 58
        }
      ]
    },
    {
      "cell_type": "code",
      "source": [
        "# Check the labels ocurrence\n",
        "training_data['rating'].value_counts()"
      ],
      "metadata": {
        "colab": {
          "base_uri": "https://localhost:8080/"
        },
        "id": "UQ4L9LLbEOtX",
        "outputId": "2629c848-1a48-4966-f1b6-34851f5aa234"
      },
      "execution_count": 59,
      "outputs": [
        {
          "output_type": "execute_result",
          "data": {
            "text/plain": [
              "positive    191950\n",
              "neutral      15337\n",
              "negative     14105\n",
              "Name: rating, dtype: int64"
            ]
          },
          "metadata": {},
          "execution_count": 59
        }
      ]
    },
    {
      "cell_type": "code",
      "source": [
        "# mapping\n",
        "custom_mapping = {'positive': 0, 'neutral': 1, 'negative': 2}\n",
        "# change the value on the df\n",
        "training_data['rating'] = training_data['rating'].map(custom_mapping)\n",
        "training_data"
      ],
      "metadata": {
        "colab": {
          "base_uri": "https://localhost:8080/",
          "height": 1000
        },
        "id": "qe75IVVZIdWl",
        "outputId": "1792ce30-9994-43e2-f498-a3144e321ac4"
      },
      "execution_count": 60,
      "outputs": [
        {
          "output_type": "execute_result",
          "data": {
            "text/plain": [
              "        verified   reviewTime      reviewerID        asin  \\\n",
              "0           True   05 4, 2017  A2QNLVLQHW6OOC  B00NEZNT74   \n",
              "1           True   12 1, 2014  A32SHV461SUWNQ  B002Q0WTCE   \n",
              "2           True  12 23, 2015  A2SKHG5ULPYIMC  B0002GFP9I   \n",
              "3           True   09 4, 2013  A2MFJ6C67AL015  B003AJVKDO   \n",
              "4           True  08 28, 2015   ACYCDUUE9A3T2  B004XNK7AI   \n",
              "...          ...          ...             ...         ...   \n",
              "221387      True  08 16, 2015  A1TWEBKVZDD2JJ  B0002H05BA   \n",
              "221388      True   01 8, 2012   AP32V2GXAK9VM  B000WME8C2   \n",
              "221389      True  10 22, 2017   A4BIHE0AYAMTP  B00MD7S06O   \n",
              "221390      True   01 9, 2016  A3OCE03MZ2PC2J  B0017PLYCK   \n",
              "221391      True  01 15, 2013  A3T3KPW2QE866W  B0002II7H8   \n",
              "\n",
              "                               reviewerName  \\\n",
              "0                                  Jason L.   \n",
              "1                                Richard C.   \n",
              "2       BellaLatinaReina-ACP Zero-Nine-Five   \n",
              "3                                    BOS116   \n",
              "4                              jack edwards   \n",
              "...                                     ...   \n",
              "221387                           Obey Giant   \n",
              "221388                                 Grey   \n",
              "221389                            divbyzero   \n",
              "221390                               scaper   \n",
              "221391                               leelee   \n",
              "\n",
              "                                               reviewText  \\\n",
              "0              Have 30 of these in operation great lights   \n",
              "1       Good replacement.  I prefer my Rovner L5, but ...   \n",
              "2       My son & band teacher loves it. Really nice. B...   \n",
              "3       This was a gift for a friend who is a fan of t...   \n",
              "4       Wish it would attach to my violin a little eas...   \n",
              "...                                                   ...   \n",
              "221387  Still hard to beat D'Addario. Hope they keep i...   \n",
              "221388  Ortofon hits the nail right on the head with t...   \n",
              "221389  This is my absolute favorite guitar strap amon...   \n",
              "221390                                               nice   \n",
              "221391  This polishing cloth is well-made and a great ...   \n",
              "\n",
              "                                                  summary  unixReviewTime  \\\n",
              "0                                              Five Stars      1493856000   \n",
              "1                 Good replacement. I prefer my Rovner L5      1417392000   \n",
              "2                    Really Helps With Their Practice Pad      1450828800   \n",
              "3                                            Guitar picks      1378252800   \n",
              "4       ... to my violin a little easier but it works ...      1440720000   \n",
              "...                                                   ...             ...   \n",
              "221387                                         Five Stars      1439683200   \n",
              "221388                       Headshell Impovment?  YES!!!      1325980800   \n",
              "221389                            ecclesiastical / hippie      1508630400   \n",
              "221390                                         Five Stars      1452297600   \n",
              "221391                              Great polishing cloth      1358208000   \n",
              "\n",
              "       vote                                              style  \\\n",
              "0       NaN                                  {'Size:': ' 4PC'}   \n",
              "1       NaN                                                NaN   \n",
              "2       NaN                                                NaN   \n",
              "3       NaN                                {'Color:': ' Logo'}   \n",
              "4       NaN                        {'Color:': ' Black - SN-5'}   \n",
              "...     ...                                                ...   \n",
              "221387  NaN  {'Size:': ' Regular Light, 10-46', 'Style:': '...   \n",
              "221388  7.0                               {'Color:': ' Black'}   \n",
              "221389  NaN                                                NaN   \n",
              "221390  NaN                                                NaN   \n",
              "221391  NaN                                                NaN   \n",
              "\n",
              "                                                    image  rating  \n",
              "0                                                     NaN       0  \n",
              "1                                                     NaN       0  \n",
              "2                                                     NaN       0  \n",
              "3                                                     NaN       0  \n",
              "4                                                     NaN       0  \n",
              "...                                                   ...     ...  \n",
              "221387                                                NaN       0  \n",
              "221388                                                NaN       0  \n",
              "221389  ['https://images-na.ssl-images-amazon.com/imag...       0  \n",
              "221390                                                NaN       0  \n",
              "221391                                                NaN       0  \n",
              "\n",
              "[221392 rows x 12 columns]"
            ],
            "text/html": [
              "\n",
              "  <div id=\"df-8cfc0b9b-64df-4f19-931c-0e8a9760fa41\">\n",
              "    <div class=\"colab-df-container\">\n",
              "      <div>\n",
              "<style scoped>\n",
              "    .dataframe tbody tr th:only-of-type {\n",
              "        vertical-align: middle;\n",
              "    }\n",
              "\n",
              "    .dataframe tbody tr th {\n",
              "        vertical-align: top;\n",
              "    }\n",
              "\n",
              "    .dataframe thead th {\n",
              "        text-align: right;\n",
              "    }\n",
              "</style>\n",
              "<table border=\"1\" class=\"dataframe\">\n",
              "  <thead>\n",
              "    <tr style=\"text-align: right;\">\n",
              "      <th></th>\n",
              "      <th>verified</th>\n",
              "      <th>reviewTime</th>\n",
              "      <th>reviewerID</th>\n",
              "      <th>asin</th>\n",
              "      <th>reviewerName</th>\n",
              "      <th>reviewText</th>\n",
              "      <th>summary</th>\n",
              "      <th>unixReviewTime</th>\n",
              "      <th>vote</th>\n",
              "      <th>style</th>\n",
              "      <th>image</th>\n",
              "      <th>rating</th>\n",
              "    </tr>\n",
              "  </thead>\n",
              "  <tbody>\n",
              "    <tr>\n",
              "      <th>0</th>\n",
              "      <td>True</td>\n",
              "      <td>05 4, 2017</td>\n",
              "      <td>A2QNLVLQHW6OOC</td>\n",
              "      <td>B00NEZNT74</td>\n",
              "      <td>Jason L.</td>\n",
              "      <td>Have 30 of these in operation great lights</td>\n",
              "      <td>Five Stars</td>\n",
              "      <td>1493856000</td>\n",
              "      <td>NaN</td>\n",
              "      <td>{'Size:': ' 4PC'}</td>\n",
              "      <td>NaN</td>\n",
              "      <td>0</td>\n",
              "    </tr>\n",
              "    <tr>\n",
              "      <th>1</th>\n",
              "      <td>True</td>\n",
              "      <td>12 1, 2014</td>\n",
              "      <td>A32SHV461SUWNQ</td>\n",
              "      <td>B002Q0WTCE</td>\n",
              "      <td>Richard C.</td>\n",
              "      <td>Good replacement.  I prefer my Rovner L5, but ...</td>\n",
              "      <td>Good replacement. I prefer my Rovner L5</td>\n",
              "      <td>1417392000</td>\n",
              "      <td>NaN</td>\n",
              "      <td>NaN</td>\n",
              "      <td>NaN</td>\n",
              "      <td>0</td>\n",
              "    </tr>\n",
              "    <tr>\n",
              "      <th>2</th>\n",
              "      <td>True</td>\n",
              "      <td>12 23, 2015</td>\n",
              "      <td>A2SKHG5ULPYIMC</td>\n",
              "      <td>B0002GFP9I</td>\n",
              "      <td>BellaLatinaReina-ACP Zero-Nine-Five</td>\n",
              "      <td>My son &amp; band teacher loves it. Really nice. B...</td>\n",
              "      <td>Really Helps With Their Practice Pad</td>\n",
              "      <td>1450828800</td>\n",
              "      <td>NaN</td>\n",
              "      <td>NaN</td>\n",
              "      <td>NaN</td>\n",
              "      <td>0</td>\n",
              "    </tr>\n",
              "    <tr>\n",
              "      <th>3</th>\n",
              "      <td>True</td>\n",
              "      <td>09 4, 2013</td>\n",
              "      <td>A2MFJ6C67AL015</td>\n",
              "      <td>B003AJVKDO</td>\n",
              "      <td>BOS116</td>\n",
              "      <td>This was a gift for a friend who is a fan of t...</td>\n",
              "      <td>Guitar picks</td>\n",
              "      <td>1378252800</td>\n",
              "      <td>NaN</td>\n",
              "      <td>{'Color:': ' Logo'}</td>\n",
              "      <td>NaN</td>\n",
              "      <td>0</td>\n",
              "    </tr>\n",
              "    <tr>\n",
              "      <th>4</th>\n",
              "      <td>True</td>\n",
              "      <td>08 28, 2015</td>\n",
              "      <td>ACYCDUUE9A3T2</td>\n",
              "      <td>B004XNK7AI</td>\n",
              "      <td>jack edwards</td>\n",
              "      <td>Wish it would attach to my violin a little eas...</td>\n",
              "      <td>... to my violin a little easier but it works ...</td>\n",
              "      <td>1440720000</td>\n",
              "      <td>NaN</td>\n",
              "      <td>{'Color:': ' Black - SN-5'}</td>\n",
              "      <td>NaN</td>\n",
              "      <td>0</td>\n",
              "    </tr>\n",
              "    <tr>\n",
              "      <th>...</th>\n",
              "      <td>...</td>\n",
              "      <td>...</td>\n",
              "      <td>...</td>\n",
              "      <td>...</td>\n",
              "      <td>...</td>\n",
              "      <td>...</td>\n",
              "      <td>...</td>\n",
              "      <td>...</td>\n",
              "      <td>...</td>\n",
              "      <td>...</td>\n",
              "      <td>...</td>\n",
              "      <td>...</td>\n",
              "    </tr>\n",
              "    <tr>\n",
              "      <th>221387</th>\n",
              "      <td>True</td>\n",
              "      <td>08 16, 2015</td>\n",
              "      <td>A1TWEBKVZDD2JJ</td>\n",
              "      <td>B0002H05BA</td>\n",
              "      <td>Obey Giant</td>\n",
              "      <td>Still hard to beat D'Addario. Hope they keep i...</td>\n",
              "      <td>Five Stars</td>\n",
              "      <td>1439683200</td>\n",
              "      <td>NaN</td>\n",
              "      <td>{'Size:': ' Regular Light, 10-46', 'Style:': '...</td>\n",
              "      <td>NaN</td>\n",
              "      <td>0</td>\n",
              "    </tr>\n",
              "    <tr>\n",
              "      <th>221388</th>\n",
              "      <td>True</td>\n",
              "      <td>01 8, 2012</td>\n",
              "      <td>AP32V2GXAK9VM</td>\n",
              "      <td>B000WME8C2</td>\n",
              "      <td>Grey</td>\n",
              "      <td>Ortofon hits the nail right on the head with t...</td>\n",
              "      <td>Headshell Impovment?  YES!!!</td>\n",
              "      <td>1325980800</td>\n",
              "      <td>7.0</td>\n",
              "      <td>{'Color:': ' Black'}</td>\n",
              "      <td>NaN</td>\n",
              "      <td>0</td>\n",
              "    </tr>\n",
              "    <tr>\n",
              "      <th>221389</th>\n",
              "      <td>True</td>\n",
              "      <td>10 22, 2017</td>\n",
              "      <td>A4BIHE0AYAMTP</td>\n",
              "      <td>B00MD7S06O</td>\n",
              "      <td>divbyzero</td>\n",
              "      <td>This is my absolute favorite guitar strap amon...</td>\n",
              "      <td>ecclesiastical / hippie</td>\n",
              "      <td>1508630400</td>\n",
              "      <td>NaN</td>\n",
              "      <td>NaN</td>\n",
              "      <td>['https://images-na.ssl-images-amazon.com/imag...</td>\n",
              "      <td>0</td>\n",
              "    </tr>\n",
              "    <tr>\n",
              "      <th>221390</th>\n",
              "      <td>True</td>\n",
              "      <td>01 9, 2016</td>\n",
              "      <td>A3OCE03MZ2PC2J</td>\n",
              "      <td>B0017PLYCK</td>\n",
              "      <td>scaper</td>\n",
              "      <td>nice</td>\n",
              "      <td>Five Stars</td>\n",
              "      <td>1452297600</td>\n",
              "      <td>NaN</td>\n",
              "      <td>NaN</td>\n",
              "      <td>NaN</td>\n",
              "      <td>0</td>\n",
              "    </tr>\n",
              "    <tr>\n",
              "      <th>221391</th>\n",
              "      <td>True</td>\n",
              "      <td>01 15, 2013</td>\n",
              "      <td>A3T3KPW2QE866W</td>\n",
              "      <td>B0002II7H8</td>\n",
              "      <td>leelee</td>\n",
              "      <td>This polishing cloth is well-made and a great ...</td>\n",
              "      <td>Great polishing cloth</td>\n",
              "      <td>1358208000</td>\n",
              "      <td>NaN</td>\n",
              "      <td>NaN</td>\n",
              "      <td>NaN</td>\n",
              "      <td>0</td>\n",
              "    </tr>\n",
              "  </tbody>\n",
              "</table>\n",
              "<p>221392 rows × 12 columns</p>\n",
              "</div>\n",
              "      <button class=\"colab-df-convert\" onclick=\"convertToInteractive('df-8cfc0b9b-64df-4f19-931c-0e8a9760fa41')\"\n",
              "              title=\"Convert this dataframe to an interactive table.\"\n",
              "              style=\"display:none;\">\n",
              "        \n",
              "  <svg xmlns=\"http://www.w3.org/2000/svg\" height=\"24px\"viewBox=\"0 0 24 24\"\n",
              "       width=\"24px\">\n",
              "    <path d=\"M0 0h24v24H0V0z\" fill=\"none\"/>\n",
              "    <path d=\"M18.56 5.44l.94 2.06.94-2.06 2.06-.94-2.06-.94-.94-2.06-.94 2.06-2.06.94zm-11 1L8.5 8.5l.94-2.06 2.06-.94-2.06-.94L8.5 2.5l-.94 2.06-2.06.94zm10 10l.94 2.06.94-2.06 2.06-.94-2.06-.94-.94-2.06-.94 2.06-2.06.94z\"/><path d=\"M17.41 7.96l-1.37-1.37c-.4-.4-.92-.59-1.43-.59-.52 0-1.04.2-1.43.59L10.3 9.45l-7.72 7.72c-.78.78-.78 2.05 0 2.83L4 21.41c.39.39.9.59 1.41.59.51 0 1.02-.2 1.41-.59l7.78-7.78 2.81-2.81c.8-.78.8-2.07 0-2.86zM5.41 20L4 18.59l7.72-7.72 1.47 1.35L5.41 20z\"/>\n",
              "  </svg>\n",
              "      </button>\n",
              "      \n",
              "  <style>\n",
              "    .colab-df-container {\n",
              "      display:flex;\n",
              "      flex-wrap:wrap;\n",
              "      gap: 12px;\n",
              "    }\n",
              "\n",
              "    .colab-df-convert {\n",
              "      background-color: #E8F0FE;\n",
              "      border: none;\n",
              "      border-radius: 50%;\n",
              "      cursor: pointer;\n",
              "      display: none;\n",
              "      fill: #1967D2;\n",
              "      height: 32px;\n",
              "      padding: 0 0 0 0;\n",
              "      width: 32px;\n",
              "    }\n",
              "\n",
              "    .colab-df-convert:hover {\n",
              "      background-color: #E2EBFA;\n",
              "      box-shadow: 0px 1px 2px rgba(60, 64, 67, 0.3), 0px 1px 3px 1px rgba(60, 64, 67, 0.15);\n",
              "      fill: #174EA6;\n",
              "    }\n",
              "\n",
              "    [theme=dark] .colab-df-convert {\n",
              "      background-color: #3B4455;\n",
              "      fill: #D2E3FC;\n",
              "    }\n",
              "\n",
              "    [theme=dark] .colab-df-convert:hover {\n",
              "      background-color: #434B5C;\n",
              "      box-shadow: 0px 1px 3px 1px rgba(0, 0, 0, 0.15);\n",
              "      filter: drop-shadow(0px 1px 2px rgba(0, 0, 0, 0.3));\n",
              "      fill: #FFFFFF;\n",
              "    }\n",
              "  </style>\n",
              "\n",
              "      <script>\n",
              "        const buttonEl =\n",
              "          document.querySelector('#df-8cfc0b9b-64df-4f19-931c-0e8a9760fa41 button.colab-df-convert');\n",
              "        buttonEl.style.display =\n",
              "          google.colab.kernel.accessAllowed ? 'block' : 'none';\n",
              "\n",
              "        async function convertToInteractive(key) {\n",
              "          const element = document.querySelector('#df-8cfc0b9b-64df-4f19-931c-0e8a9760fa41');\n",
              "          const dataTable =\n",
              "            await google.colab.kernel.invokeFunction('convertToInteractive',\n",
              "                                                     [key], {});\n",
              "          if (!dataTable) return;\n",
              "\n",
              "          const docLinkHtml = 'Like what you see? Visit the ' +\n",
              "            '<a target=\"_blank\" href=https://colab.research.google.com/notebooks/data_table.ipynb>data table notebook</a>'\n",
              "            + ' to learn more about interactive tables.';\n",
              "          element.innerHTML = '';\n",
              "          dataTable['output_type'] = 'display_data';\n",
              "          await google.colab.output.renderOutput(dataTable, element);\n",
              "          const docLink = document.createElement('div');\n",
              "          docLink.innerHTML = docLinkHtml;\n",
              "          element.appendChild(docLink);\n",
              "        }\n",
              "      </script>\n",
              "    </div>\n",
              "  </div>\n",
              "  "
            ]
          },
          "metadata": {},
          "execution_count": 60
        }
      ]
    },
    {
      "cell_type": "code",
      "source": [
        "# text and label\n",
        "# I did the 'astype(str)' part because I was getting a float error when using tokenizer\n",
        "training_text = training_data.reviewText.astype(str)\n",
        "training_labels = training_data.rating\n",
        "training_labels"
      ],
      "metadata": {
        "colab": {
          "base_uri": "https://localhost:8080/"
        },
        "id": "_w0CI0CmyEqp",
        "outputId": "86525726-8f56-4e50-cc5c-0c57a17c7dc9"
      },
      "execution_count": 61,
      "outputs": [
        {
          "output_type": "execute_result",
          "data": {
            "text/plain": [
              "0         0\n",
              "1         0\n",
              "2         0\n",
              "3         0\n",
              "4         0\n",
              "         ..\n",
              "221387    0\n",
              "221388    0\n",
              "221389    0\n",
              "221390    0\n",
              "221391    0\n",
              "Name: rating, Length: 221392, dtype: int64"
            ]
          },
          "metadata": {},
          "execution_count": 61
        }
      ]
    },
    {
      "cell_type": "code",
      "source": [
        "# tokenizer\n",
        "from keras.preprocessing.text import Tokenizer\n",
        "tokenizer = Tokenizer(num_words = 20000)\n",
        "#build the word index\n",
        "tokenizer.fit_on_texts(training_text)\n",
        "# now convert the words to integers\n",
        "data_sequences = tokenizer.texts_to_sequences(training_text)\n",
        "data_sequences[1]"
      ],
      "metadata": {
        "colab": {
          "base_uri": "https://localhost:8080/"
        },
        "id": "njZunjI2yvLP",
        "outputId": "46f1c021-dd91-4d49-f5ce-bfe6ce7fa294"
      },
      "execution_count": 62,
      "outputs": [
        {
          "output_type": "execute_result",
          "data": {
            "text/plain": [
              "[23,\n",
              " 622,\n",
              " 3,\n",
              " 521,\n",
              " 11,\n",
              " 5490,\n",
              " 14545,\n",
              " 17,\n",
              " 487,\n",
              " 367,\n",
              " 430,\n",
              " 12,\n",
              " 10,\n",
              " 33,\n",
              " 38,\n",
              " 63,\n",
              " 15,\n",
              " 21,\n",
              " 178,\n",
              " 8]"
            ]
          },
          "metadata": {},
          "execution_count": 62
        }
      ]
    },
    {
      "cell_type": "code",
      "source": [
        "tokenizer.sequences_to_texts([data_sequences[1]])"
      ],
      "metadata": {
        "colab": {
          "base_uri": "https://localhost:8080/"
        },
        "id": "OBmyw7MM0a6K",
        "outputId": "78331acf-ab59-45a0-dae0-117902a54d53"
      },
      "execution_count": 11,
      "outputs": [
        {
          "output_type": "execute_result",
          "data": {
            "text/plain": [
              "[\"good replacement i prefer my rovner l5 but there's nothing wrong with this if it's what you are looking for\"]"
            ]
          },
          "metadata": {},
          "execution_count": 11
        }
      ]
    },
    {
      "cell_type": "code",
      "source": [
        "# Let's truncate each review after 70 words\n",
        "maxlen = 70\n",
        "\n",
        "from keras.utils import pad_sequences\n",
        "\n",
        "# 2D integer tensor of shape `(samples, maxlen)`\n",
        "data70 = pad_sequences(data_sequences, maxlen=maxlen)\n",
        "data70[0]"
      ],
      "metadata": {
        "colab": {
          "base_uri": "https://localhost:8080/"
        },
        "id": "4I9G_zSt0waN",
        "outputId": "c037d314-dd33-4471-efeb-886c74458202"
      },
      "execution_count": 63,
      "outputs": [
        {
          "output_type": "execute_result",
          "data": {
            "text/plain": [
              "array([   0,    0,    0,    0,    0,    0,    0,    0,    0,    0,    0,\n",
              "          0,    0,    0,    0,    0,    0,    0,    0,    0,    0,    0,\n",
              "          0,    0,    0,    0,    0,    0,    0,    0,    0,    0,    0,\n",
              "          0,    0,    0,    0,    0,    0,    0,    0,    0,    0,    0,\n",
              "          0,    0,    0,    0,    0,    0,    0,    0,    0,    0,    0,\n",
              "          0,    0,    0,    0,    0,    0,    0,   18,  534,    9,   25,\n",
              "         13, 2199,   22,  570], dtype=int32)"
            ]
          },
          "metadata": {},
          "execution_count": 63
        }
      ]
    },
    {
      "cell_type": "code",
      "source": [
        "# train-test split\n",
        "from sklearn.model_selection import train_test_split\n",
        "train70, test70, train_labels, test_labels = train_test_split(data70, training_labels, test_size = 0.2, random_state=42)\n",
        "test_labels"
      ],
      "metadata": {
        "colab": {
          "base_uri": "https://localhost:8080/"
        },
        "id": "_-vX3KC72S2G",
        "outputId": "73654f50-e15c-436c-8008-7259e2c5f6a8"
      },
      "execution_count": 64,
      "outputs": [
        {
          "output_type": "execute_result",
          "data": {
            "text/plain": [
              "5028      2\n",
              "133605    0\n",
              "182161    0\n",
              "137498    0\n",
              "122233    1\n",
              "         ..\n",
              "45935     0\n",
              "5691      0\n",
              "83947     0\n",
              "214291    1\n",
              "8033      1\n",
              "Name: rating, Length: 44279, dtype: int64"
            ]
          },
          "metadata": {},
          "execution_count": 64
        }
      ]
    },
    {
      "cell_type": "code",
      "source": [
        "# labels to_categorical\n",
        "from keras.utils import to_categorical\n",
        "\n",
        "train_labels = to_categorical(train_labels)\n",
        "test_labels = to_categorical(test_labels)"
      ],
      "metadata": {
        "id": "8X9dGxT6Cobz"
      },
      "execution_count": 65,
      "outputs": []
    },
    {
      "cell_type": "code",
      "source": [
        "# Build the model\n",
        "from keras.models import Sequential\n",
        "from keras.layers import Flatten, Dense, Embedding\n",
        "\n",
        "vocabulary_size = 20000\n",
        "embedding_size = 70\n",
        "model = Sequential()"
      ],
      "metadata": {
        "id": "NNMuGDB12j7q"
      },
      "execution_count": 66,
      "outputs": []
    },
    {
      "cell_type": "code",
      "source": [
        "# Let's use GloVe word embedding\n",
        "!curl http://zacharski.org/files/courses/cs419/glove.6B.100d.zip > glove.6B.100d.zip\n",
        "!ls"
      ],
      "metadata": {
        "colab": {
          "base_uri": "https://localhost:8080/"
        },
        "id": "ahFzoSBd21uc",
        "outputId": "1ed6f1c8-4223-4d19-8c64-2bf1f10fdce1"
      },
      "execution_count": 14,
      "outputs": [
        {
          "output_type": "stream",
          "name": "stdout",
          "text": [
            "  % Total    % Received % Xferd  Average Speed   Time    Time     Time  Current\n",
            "                                 Dload  Upload   Total   Spent    Left  Speed\n",
            "100  128M  100  128M    0     0   109M      0  0:00:01  0:00:01 --:--:--  109M\n",
            "amazonReviewsTrain.csv.zip  glove.6B.100d.zip  sample_data\n"
          ]
        }
      ]
    },
    {
      "cell_type": "code",
      "source": [
        "# unzip\n",
        "!unzip glove.6B.100d.zip"
      ],
      "metadata": {
        "colab": {
          "base_uri": "https://localhost:8080/"
        },
        "id": "WZ-CVvRF5WgA",
        "outputId": "35e943ca-d44b-4742-e470-617a332ad3e6"
      },
      "execution_count": 15,
      "outputs": [
        {
          "output_type": "stream",
          "name": "stdout",
          "text": [
            "Archive:  glove.6B.100d.zip\n",
            "  inflating: glove.6B.100d.txt       \n"
          ]
        }
      ]
    },
    {
      "cell_type": "code",
      "source": [
        "# map words to vector representations\n",
        "import numpy as np\n",
        "\n",
        "embeddings_index = {}\n",
        "f = open('glove.6B.100d.txt')\n",
        "for line in f:\n",
        "    values = line.split()\n",
        "    word = values[0]\n",
        "    coefs = np.asarray(values[1:], dtype='float32')\n",
        "    embeddings_index[word] = coefs\n",
        "f.close()\n",
        "\n",
        "print('Found %s word vectors.' % len(embeddings_index))"
      ],
      "metadata": {
        "colab": {
          "base_uri": "https://localhost:8080/"
        },
        "id": "ieC3ETdY6FKU",
        "outputId": "739c53c4-15d7-4f78-b03a-0bff1f26abc1"
      },
      "execution_count": 67,
      "outputs": [
        {
          "output_type": "stream",
          "name": "stdout",
          "text": [
            "Found 400000 word vectors.\n"
          ]
        }
      ]
    },
    {
      "cell_type": "code",
      "source": [
        "# embedding matrix \n",
        "embedding_dim = 100\n",
        "max_words = 20000\n",
        "word_index = tokenizer.word_index\n",
        "\n",
        "embedding_matrix = np.zeros((max_words, embedding_dim))\n",
        "for word, i in word_index.items():\n",
        "    embedding_vector = embeddings_index.get(word)\n",
        "    if i < max_words:\n",
        "        if embedding_vector is not None:\n",
        "            embedding_matrix[i] = embedding_vector"
      ],
      "metadata": {
        "id": "de_HZ9ju7hki"
      },
      "execution_count": 68,
      "outputs": []
    },
    {
      "cell_type": "code",
      "source": [
        "# keep adding layers to the model\n",
        "\n",
        "from keras import layers\n",
        "\n",
        "model.add(Embedding(max_words, embedding_dim, input_length=maxlen))\n",
        "model.add(layers.Conv1D(filters=64, kernel_size=3, activation='relu'))\n",
        "model.add(layers.Conv1D(filters=64, kernel_size=3, activation='relu'))\n",
        "model.add(layers.Dropout(0.5))\n",
        "model.add(layers.MaxPooling1D(pool_size=2))\n",
        "model.add(Flatten())\n",
        "model.add(Dense(32, activation='relu'))\n",
        "# softmax because we have 3 categorical labels\n",
        "model.add(Dense(3, activation='softmax'))\n",
        "model.summary()"
      ],
      "metadata": {
        "id": "oZbjxY94-R_l"
      },
      "execution_count": null,
      "outputs": []
    },
    {
      "cell_type": "code",
      "source": [
        "# I'm gonna try not setting trainable to False\n",
        "model.layers[0].set_weights([embedding_matrix])\n",
        "model.layers[0].trainable = True"
      ],
      "metadata": {
        "id": "ugt1veeWAyrB"
      },
      "execution_count": 70,
      "outputs": []
    },
    {
      "cell_type": "code",
      "source": [
        "#compile\n",
        "#categorical_crossentropy since we have categorical labels\n",
        "model.compile(optimizer='rmsprop',\n",
        "              loss='categorical_crossentropy',\n",
        "              metrics=['acc'])"
      ],
      "metadata": {
        "id": "G6LyfYhl_85m"
      },
      "execution_count": 71,
      "outputs": []
    },
    {
      "cell_type": "code",
      "source": [
        "#fit\n",
        "history = model.fit(train70, train_labels,\n",
        "                    epochs=50,\n",
        "                    batch_size=32,\n",
        "                    validation_split=0.2,\n",
        "                    validation_steps=50)"
      ],
      "metadata": {
        "id": "6_uG-qziAdcg"
      },
      "execution_count": null,
      "outputs": []
    },
    {
      "cell_type": "markdown",
      "source": [
        "Not too bad. 92 % accuracy on training data and 88% accuracy on validation data"
      ],
      "metadata": {
        "id": "mJaF3UoZk3Tb"
      }
    },
    {
      "cell_type": "code",
      "source": [
        "# Let's check if our model is overfitting\n",
        "import matplotlib.pyplot as plt\n",
        "\n",
        "acc = history.history['acc']\n",
        "val_acc = history.history['val_acc']\n",
        "loss = history.history['loss']\n",
        "val_loss = history.history['val_loss']\n",
        "\n",
        "epochs = range(1, len(acc) + 1)\n",
        "\n",
        "plt.plot(epochs, acc, 'bo', label='Training acc')\n",
        "plt.plot(epochs, val_acc, 'b', label='Validation acc')\n",
        "plt.title('Training and validation accuracy')\n",
        "plt.legend()\n",
        "\n",
        "plt.figure()\n",
        "\n",
        "plt.plot(epochs, loss, 'bo', label='Training loss')\n",
        "plt.plot(epochs, val_loss, 'b', label='Validation loss')\n",
        "plt.title('Training and validation loss')\n",
        "plt.legend()\n",
        "\n",
        "plt.show()"
      ],
      "metadata": {
        "colab": {
          "base_uri": "https://localhost:8080/",
          "height": 887
        },
        "id": "Nmv7hDukfdlA",
        "outputId": "c80f2541-1bf9-494e-f27f-623ea0c6f2aa"
      },
      "execution_count": 73,
      "outputs": [
        {
          "output_type": "display_data",
          "data": {
            "text/plain": [
              "<Figure size 640x480 with 1 Axes>"
            ],
            "image/png": "[encoded data removed]"
          },
          "metadata": {}
        },
        {
          "output_type": "display_data",
          "data": {
            "text/plain": [
              "<Figure size 640x480 with 1 Axes>"
            ],
            "image/png": "[encoded data removed]"
          },
          "metadata": {}
        }
      ]
    },
    {
      "cell_type": "markdown",
      "source": [
        "Except for a drop in accuracy and an increase in loss, it doesn't seem to be overfitting much"
      ],
      "metadata": {
        "id": "31awy8TCkZKd"
      }
    },
    {
      "cell_type": "code",
      "source": [
        "#Let's do predictions on our test data (the one we split before)\n",
        "scoreSeg = model.evaluate(test70, test_labels)\n",
        "print(\"Accuracy: \", scoreSeg[1])"
      ],
      "metadata": {
        "colab": {
          "base_uri": "https://localhost:8080/"
        },
        "id": "91NlBnRKp309",
        "outputId": "2239d11d-8187-4813-f38e-aa04500716fd"
      },
      "execution_count": 81,
      "outputs": [
        {
          "output_type": "stream",
          "name": "stdout",
          "text": [
            "1384/1384 [==============================] - 9s 7ms/step - loss: 0.7351 - acc: 0.8958\n",
            "Accuracy:  0.8958196640014648\n"
          ]
        }
      ]
    },
    {
      "cell_type": "markdown",
      "source": [
        "We got 90% accuracy on test data"
      ],
      "metadata": {
        "id": "cwuotV1iqYDA"
      }
    },
    {
      "cell_type": "code",
      "source": [
        "#Let's try the model with the test data\n",
        "\n",
        "test_data = pd.read_csv('http://34.82.108.37/amazonReviewsTest.csv')\n",
        "test_data"
      ],
      "metadata": {
        "id": "kx7LVfplkzVU"
      },
      "execution_count": null,
      "outputs": []
    },
    {
      "cell_type": "code",
      "source": [
        "# get the reviews\n",
        "realtest_text = test_data.reviewText.astype(str)\n",
        "realtest_text"
      ],
      "metadata": {
        "colab": {
          "base_uri": "https://localhost:8080/"
        },
        "id": "orbyfzyql0og",
        "outputId": "12d7d46d-00d9-4f26-d2d4-5b7674ec8406"
      },
      "execution_count": 75,
      "outputs": [
        {
          "output_type": "execute_result",
          "data": {
            "text/plain": [
              "0       I am a (very amateur) EDM and Hip Hop Producer...\n",
              "1       These are pretty beefy strings even for black ...\n",
              "2       I've played every new \"improved\" string out th...\n",
              "3       I thought I would give this pedal a try, becau...\n",
              "4       Been wanting to try one for over a year.  Good...\n",
              "                              ...                        \n",
              "9995    I took it off my guitar! I would rather look a...\n",
              "9996    Better than the stock part on non-USA made gui...\n",
              "9997    I'm updating this review after using the violi...\n",
              "9998    A lot of sound research and engineering go int...\n",
              "9999    This is my second stand like this. Looks reall...\n",
              "Name: reviewText, Length: 10000, dtype: object"
            ]
          },
          "metadata": {},
          "execution_count": 75
        }
      ]
    },
    {
      "cell_type": "code",
      "source": [
        "tokenizer2 = Tokenizer(num_words = 20000)\n",
        "#build the word index\n",
        "tokenizer2.fit_on_texts(realtest_text)\n",
        "# now convert the words to integers\n",
        "data_sequences2 = tokenizer2.texts_to_sequences(realtest_text)\n",
        "data_sequences2[1]"
      ],
      "metadata": {
        "id": "7j5D2arymvIC"
      },
      "execution_count": null,
      "outputs": []
    },
    {
      "cell_type": "code",
      "source": [
        "tokenizer2.sequences_to_texts([data_sequences2[1]])"
      ],
      "metadata": {
        "colab": {
          "base_uri": "https://localhost:8080/"
        },
        "id": "e4L6lVm5nWL2",
        "outputId": "151813d2-af6c-4a60-af98-ec7c5f6d956e"
      },
      "execution_count": 79,
      "outputs": [
        {
          "output_type": "execute_result",
          "data": {
            "text/plain": [
              "[\"these are pretty beefy strings even for black nylons and while i'm used to slightly heavier strings for my fretless basses these go too far there's simply no reason to use a 115 gauge e string unless you really like taut strings and feel like getting a new bass setup they should swap the 115 string for a 050 gauge g string and shift the rest up so you'd get a 050 065 075 100 set actually a 050 065 085 105 set would be even better hey wait that's exactly what my la bella 750n set uses time to put those back on\"]"
            ]
          },
          "metadata": {},
          "execution_count": 79
        }
      ]
    },
    {
      "cell_type": "code",
      "source": [
        "# Let's truncate each review after 70 words, like we did with the training set\n",
        "\n",
        "# 2D integer tensor of shape `(samples, maxlen)`\n",
        "realtest70 = pad_sequences(data_sequences2, maxlen=maxlen)\n",
        "realtest70[0]"
      ],
      "metadata": {
        "colab": {
          "base_uri": "https://localhost:8080/"
        },
        "id": "ZHeAJPvooM1R",
        "outputId": "0dbaf8c1-0314-48e9-b921-322fe04f39a5"
      },
      "execution_count": 80,
      "outputs": [
        {
          "output_type": "execute_result",
          "data": {
            "text/plain": [
              "array([   3,   39,  129,  175,   25,   22,   21,  322,    4,    3,   72,\n",
              "        166,   33,   75, 1305,   46,   25,  322,   31, 2846,  358,    4,\n",
              "         22,  403,  132,    5, 2523,   11,  953,   12,   11,   27,  122,\n",
              "        315,  247,   25,  264, 1899,   49,  507,  396, 1526,  354,   13,\n",
              "        847, 4845,  865, 2346,  235,   17,  246,   19,   58,  366,  107,\n",
              "          7,  366,  107,    7,  974, 2191, 1527,   12,  122, 2633, 1186,\n",
              "         69,  138, 2270,  342], dtype=int32)"
            ]
          },
          "metadata": {},
          "execution_count": 80
        }
      ]
    },
    {
      "cell_type": "code",
      "source": [
        "# predictions with real test data\n",
        "pred = model.predict(realtest70, batch_size=32)\n",
        "pred.shape"
      ],
      "metadata": {
        "colab": {
          "base_uri": "https://localhost:8080/"
        },
        "id": "EetjMJEVotZC",
        "outputId": "e10f6ded-5dda-4319-da47-8c322fb49bac"
      },
      "execution_count": 82,
      "outputs": [
        {
          "output_type": "stream",
          "name": "stdout",
          "text": [
            "313/313 [==============================] - 3s 10ms/step\n"
          ]
        },
        {
          "output_type": "execute_result",
          "data": {
            "text/plain": [
              "(10000, 3)"
            ]
          },
          "metadata": {},
          "execution_count": 82
        }
      ]
    },
    {
      "cell_type": "code",
      "source": [
        "pred"
      ],
      "metadata": {
        "colab": {
          "base_uri": "https://localhost:8080/"
        },
        "id": "pnkwf57rrXp3",
        "outputId": "9416ae02-4d12-4301-f076-ee5a73fb23e2"
      },
      "execution_count": 83,
      "outputs": [
        {
          "output_type": "execute_result",
          "data": {
            "text/plain": [
              "array([[9.8127967e-01, 1.8556867e-02, 1.6336553e-04],\n",
              "       [5.6601530e-01, 2.0200074e-01, 2.3198403e-01],\n",
              "       [9.2982775e-01, 6.0746226e-02, 9.4261225e-03],\n",
              "       ...,\n",
              "       [9.3877673e-01, 5.4009013e-02, 7.2142268e-03],\n",
              "       [9.6264774e-01, 3.5107806e-02, 2.2443670e-03],\n",
              "       [9.5762205e-01, 3.8925491e-02, 3.4523380e-03]], dtype=float32)"
            ]
          },
          "metadata": {},
          "execution_count": 83
        }
      ]
    },
    {
      "cell_type": "code",
      "source": [
        "# write to the file\n",
        "with open('amazonReviewsPredictions.txt', 'w') as f:\n",
        "  for i in range(0, len(pred)):\n",
        "    index = np.array(pred[i]).argmax()\n",
        "    if index == 0:\n",
        "      f.write(\"positive\\n\")\n",
        "    elif index ==1:\n",
        "      f.write(\"neutral\\n\")\n",
        "    elif index ==2:\n",
        "      f.write(\"negative\\n\")"
      ],
      "metadata": {
        "id": "vDbUMZ4ArwJi"
      },
      "execution_count": 86,
      "outputs": []
    },
    {
      "cell_type": "code",
      "source": [
        "# test given by the professor\n",
        "def test():\n",
        "  i = 0\n",
        "  answers = ['negative', 'neutral', 'positive']\n",
        "  with open('amazonReviewsPredictions.txt', 'r') as outfile:\n",
        "    lines = outfile.readlines()\n",
        "    for line in lines:\n",
        "        if line.strip() not in answers:\n",
        "          return(\"invalid entry line %i\" % (i))\n",
        "        i += 1\n",
        "    if i != 10000:\n",
        "      return (\"incorrect number of lines\")\n",
        "    else:\n",
        "      return (\"file looks ok\")"
      ],
      "metadata": {
        "id": "lhFDbA5av8CY"
      },
      "execution_count": 87,
      "outputs": []
    },
    {
      "cell_type": "code",
      "source": [
        "test()"
      ],
      "metadata": {
        "colab": {
          "base_uri": "https://localhost:8080/",
          "height": 35
        },
        "id": "InCXYwU9wOH-",
        "outputId": "72b81186-0075-46de-d43c-fb045eed9553"
      },
      "execution_count": 89,
      "outputs": [
        {
          "output_type": "execute_result",
          "data": {
            "text/plain": [
              "'file looks ok'"
            ],
            "application/vnd.google.colaboratory.intrinsic+json": {
              "type": "string"
            }
          },
          "metadata": {},
          "execution_count": 89
        }
      ]
    },
    {
      "cell_type": "markdown",
      "source": [
        "According to the test function, the file looks ok. Please, if possible, let me know how accurate my predictions were."
      ],
      "metadata": {
        "id": "gkE0YHlSwTD8"
      }
    }
  ]
}