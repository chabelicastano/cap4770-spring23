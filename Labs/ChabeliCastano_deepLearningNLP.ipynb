{
  "cells": [
    {
      "cell_type": "markdown",
      "metadata": {
        "id": "view-in-github",
        "colab_type": "text"
      },
      "source": [
        "<a href=\"https://colab.research.google.com/github/chabelicastano/cap4770-spring23/blob/main/Labs/ChabeliCastano_deepLearningNLP.ipynb\" target=\"_parent\"><img src=\"https://colab.research.google.com/assets/colab-badge.svg\" alt=\"Open In Colab\"/></a>"
      ]
    },
    {
      "cell_type": "code",
      "execution_count": 2,
      "metadata": {
        "id": "hHAxGRCXb7X_",
        "colab": {
          "base_uri": "https://localhost:8080/"
        },
        "outputId": "7edbe645-d8ae-4b8e-8775-3743b722fee6"
      },
      "outputs": [
        {
          "output_type": "stream",
          "name": "stdout",
          "text": [
            "Thu Apr 20 22:39:23 2023       \n",
            "+-----------------------------------------------------------------------------+\n",
            "| NVIDIA-SMI 525.85.12    Driver Version: 525.85.12    CUDA Version: 12.0     |\n",
            "|-------------------------------+----------------------+----------------------+\n",
            "| GPU  Name        Persistence-M| Bus-Id        Disp.A | Volatile Uncorr. ECC |\n",
            "| Fan  Temp  Perf  Pwr:Usage/Cap|         Memory-Usage | GPU-Util  Compute M. |\n",
            "|                               |                      |               MIG M. |\n",
            "|===============================+======================+======================|\n",
            "|   0  Tesla T4            Off  | 00000000:00:04.0 Off |                    0 |\n",
            "| N/A   44C    P8     9W /  70W |      0MiB / 15360MiB |      0%      Default |\n",
            "|                               |                      |                  N/A |\n",
            "+-------------------------------+----------------------+----------------------+\n",
            "                                                                               \n",
            "+-----------------------------------------------------------------------------+\n",
            "| Processes:                                                                  |\n",
            "|  GPU   GI   CI        PID   Type   Process name                  GPU Memory |\n",
            "|        ID   ID                                                   Usage      |\n",
            "|=============================================================================|\n",
            "|  No running processes found                                                 |\n",
            "+-----------------------------------------------------------------------------+\n"
          ]
        }
      ],
      "source": [
        "!nvidia-smi"
      ]
    },
    {
      "cell_type": "markdown",
      "metadata": {
        "id": "Omp4N9HXb-b4"
      },
      "source": [
        "\n",
        "# Deep Learning for Natural Language Processing\n",
        "\n",
        "Natural Language Processing (NLP) covers machine learning techniques dealing with text and includes\n",
        "\n",
        "* classification\n",
        "  * sentiment analyis (is this tweet a Pro-Biden or Anti-Biden one)\n",
        "  * stylometrics (was this typed suicide note really from the deceased or did the murderer write it [1](https://www.rosette.com/case-studies/alias/), [2](https://www.ncbi.nlm.nih.gov/pmc/articles/PMC3107011/)\n",
        "  * general classification (out of 40 topics, which is this article about)\n",
        "* question answering (building systems that can answer questions -- *What is the best treatment for hemangiosarcoma in dogs?*)\n",
        "* machine translation\n",
        "* speech recognition\n",
        "\n",
        "among many others. Deep Learning has led to tremendous improvements in all these areas of NLP. \n",
        "\n",
        "In this notebook, we are going to examine classification systems for textual information.\n",
        "\n",
        "\n"
      ]
    },
    {
      "cell_type": "markdown",
      "metadata": {
        "id": "Cm5JKEGBvFZH"
      },
      "source": [
        "\n",
        "## Analyzing and Classifying Text\n",
        "\n",
        "\n",
        "\n",
        "<img src=\"https://raw.githubusercontent.com/zacharski/ml-class/master/labs/pics/tiles.jpg\" width=\"500\"/>\n",
        "\n",
        "So far we have been dealing with **structured data**. Structured data is ... well ... structured. This means that an instance of our data has nice attributes that can be represented in a DataFrame or a table:\n",
        "\n",
        "make | mpg | cylinders | HP | 0-60 |\n",
        "---- | :---: | :---: | :---: | :---: |\n",
        "Fiat | 38 | 4 | 157   | 6.9 \n",
        "Ford F150 | 19 | 6 | 386 | 6.3 \n",
        "Mazda 3 | 37 | 4 | 155 |  7.5 \n",
        "Ford Escape | 27 | 4 | 245 | 7.1 \n",
        "Kia Soul | 31 | 4 | 164 | 8.5 \n",
        "\n",
        "The majority of data in the world is **unstructured**. Take text for example. Suppose I have a corpus of twitter posts from former president Donald Trump and the Dalai Lama and my goal is to create a classifier that takes a tweet and tells me if it was produced by Trump or the Dalai Lama:\n",
        "\n",
        "*The purpose of education is to build a happier society, we need a more holistic approach that promotes the practice of love and compassion.*\n",
        "\n",
        "*How low has President Obama gone to tapp my phones during the very sacred election*\n",
        "\n",
        "We might consider  the columns of a table to be things like *first word of the tweet*, *second word of the tweet* and so on:\n",
        "\n",
        "\n",
        "id | word 1 | word 2 | word 3 | word 4 |word 5 |word 6 | ... |\n",
        "---- | :---: | :---: | :---: | :---: | :---: |:---: |:---: |\n",
        "1 | The | purpose | of   | education |is | to | ...\n",
        "2 | How | low | has |President | Obama | gone | ...\n",
        "\n",
        "So we would be counting how many times the word *President* occurred as the fourth word of a tweet. **But that would be the wrong way to go**. First, the deep learning models we have developed so far require input of a specific length. For example, we resized our dog and cat images to a uniform 150x150 and because each image was a uniform size we could specify the input shape of our network to be ....\n",
        "\n",
        "```\n",
        "model.add(layers.Conv2D(32, (3, 3), activation='relu', input_shape=(150, 150, 3)))\n",
        "```\n",
        "\n",
        "But what should the input length be for tweets? Sometimes there are short, one-word, tweets like *nice*. The average length of a tweet is 30 characters so something like the six word *Today, Toaster is 10 years old.*  And the limit of course is 280 characters so...\n",
        "\n",
        "> Like anything else, life has a beginning and in due course must end. In between those two events the important goal should be to live meaningfully, not to create trouble for others. If we can do that, when the end comes, we can go feeling at peace.\n",
        "\n",
        "That's 47 words so maybe we can limit our input to 50 words and for shorter tweets we can pad them with blank words.  But there is another possibility ...\n",
        "\n",
        "### Bag of Words (bow)\n",
        "\n",
        "A more common way to represent text is to treat the text as an unordered set of words, which is called the **bag of words** approach. \n",
        "\n",
        "\n",
        "<img src=\"https://raw.githubusercontent.com/zacharski/ml-class/master/labs/pics/BagofWords.jpg\" width=\"350\"/>\n",
        "\n",
        "With the bag of words approach we count word occurrences and the features (what we might think of as columns) are the unique words. For example, we have a collection of Trump and Dalai Lama tweets and indicate whether the word occurred in the tweet or not. So we might get something like:\n",
        "\n",
        "id | a | the | compassion | love |sad |fake | rigged | ... |\n",
        "---- | :---: | :---: | :---: | :---: | :---: |:---: |:---: | :---:\n",
        "Trump_1 | 1 | 0 | 0   | 0 |1 | 1 | 1 |...\n",
        "Trump_2 | 1 | 1 | 0   | 0 | 0 | 1 | 1 |...\n",
        "DalaiLama_1 | 1 | 1 | 1 |1 | 0 | 0 | 0 | ...\n",
        "\n",
        "So, for example, in DalaiLama_1, in the text there was\n",
        "\n",
        "* an occurrence of *a*\n",
        "* an occurrence of *the*\n",
        "* an occurrence of *compassion*\n",
        "* an occurrence of *love*\n",
        "\n",
        "We don't know what order the words occurred in, we just know what words occurred in the tweet. This is the bag-of-words method. \n",
        "\n",
        "Instead of short text snippets like tweets, let's say we are analyzing speeches of Trump and the Dalai Lama. Maybe then we will count how many times they used each word. So something like:\n",
        "\n",
        "id | a | the | compassion | love |sad |fake | rigged | ... |\n",
        "---- | :---: | :---: | :---: | :---: | :---: |:---: |:---: | :---:\n",
        "Trump_1 | 52 | 25 | 0   | 0 |21 | 82 | 19 |...\n",
        "Trump_2 | 30 | 35 | 0   | 0 | 5 | 20 | 31 |...\n",
        "DalaiLama_1 | 60 | 271 | 27 |63 | 12 | 0 | 0 | ...\n",
        "\n",
        "Of course we are still faced with how many columns to make, representing the vocabulary size. We could limit it to the 10,000 most common words, for example.\n",
        "\n",
        "Once we have the text in this format we can use the standard deep learning classification techniques we used before.\n",
        "\n",
        "\n",
        "Converting **unstructured** text to something **structured** is a multistep process. Let's learn the bits before putting it together. And we will start with the last step first-- creating the bag of words.\n",
        "\n",
        "### Import Keras ...\n",
        "\n"
      ]
    },
    {
      "cell_type": "code",
      "execution_count": 3,
      "metadata": {
        "id": "-igfitKjuYru",
        "colab": {
          "base_uri": "https://localhost:8080/",
          "height": 35
        },
        "outputId": "1b764e65-fa54-4a6b-ec56-cb2aea874b5a"
      },
      "outputs": [
        {
          "output_type": "execute_result",
          "data": {
            "text/plain": [
              "'2.12.0'"
            ],
            "application/vnd.google.colaboratory.intrinsic+json": {
              "type": "string"
            }
          },
          "metadata": {},
          "execution_count": 3
        }
      ],
      "source": [
        "import keras\n",
        "keras.__version__"
      ]
    },
    {
      "cell_type": "markdown",
      "metadata": {
        "id": "y1153Guw8wB_"
      },
      "source": [
        "### Some sample data"
      ]
    },
    {
      "cell_type": "code",
      "execution_count": 4,
      "metadata": {
        "id": "u1mf095J8u_0",
        "colab": {
          "base_uri": "https://localhost:8080/"
        },
        "outputId": "8e3c4f23-0689-4633-ebf4-d149e4da6295"
      },
      "outputs": [
        {
          "output_type": "execute_result",
          "data": {
            "text/plain": [
              "['How low has President Obama gone to tapp my phones during the very sacred election process. This is Nixon/Watergate. Obama bad (or sick) guy! Sad',\n",
              " 'Our wonderful new Healthcare Bill is now out for review and negotiation. ObamaCare is a complete and total disaster - is imploding fast! Sad',\n",
              " \"Don't let the FAKE NEWS tell you that there is big infighting in the Trump Admin. We are getting along great, and getting major things done!\",\n",
              " 'Russia talk is FAKE NEWS put out by the Dems, and played up by the media, in order to mask the big election defeat and the illegal leaks! Sad',\n",
              " 'The purpose of education is to build a happier society, we need a more holistic approach that promotes the practice of love and compassion.',\n",
              " 'Be a kind and compassionate person. This is the inner beauty that is a key factor to making a better world.',\n",
              " 'If our goal is a happier, more peaceful world in the future, only education will bring change.',\n",
              " 'Love and compassion are important, because they strengthen us. This is a source of hope']"
            ]
          },
          "metadata": {},
          "execution_count": 4
        }
      ],
      "source": [
        "trump1 = \"How low has President Obama gone to tapp my phones during the very sacred election process. This is Nixon/Watergate. Obama bad (or sick) guy! Sad\"\n",
        "trump2 = \"Our wonderful new Healthcare Bill is now out for review and negotiation. ObamaCare is a complete and total disaster - is imploding fast! Sad\"\n",
        "trump3 = \"Don't let the FAKE NEWS tell you that there is big infighting in the Trump Admin. We are getting along great, and getting major things done!\"\n",
        "trump4 = \"Russia talk is FAKE NEWS put out by the Dems, and played up by the media, in order to mask the big election defeat and the illegal leaks! Sad\"\n",
        "dalaiLama1 = \"The purpose of education is to build a happier society, we need a more holistic approach that promotes the practice of love and compassion.\"\n",
        "dalaiLama2 = \"Be a kind and compassionate person. This is the inner beauty that is a key factor to making a better world.\"\n",
        "dalaiLama3 = \"If our goal is a happier, more peaceful world in the future, only education will bring change.\"\n",
        "dalaiLama4 = \"Love and compassion are important, because they strengthen us. This is a source of hope\"\n",
        "tinyCorpus = [trump1, trump2, trump3, trump4, dalaiLama1, dalaiLama2, dalaiLama3, dalaiLama4]\n",
        "tinyCorpus"
      ]
    },
    {
      "cell_type": "markdown",
      "metadata": {
        "id": "y-y3dlin89du"
      },
      "source": [
        "### Create the bag of words"
      ]
    },
    {
      "cell_type": "code",
      "execution_count": 5,
      "metadata": {
        "id": "LrWO8riu80Bm",
        "colab": {
          "base_uri": "https://localhost:8080/"
        },
        "outputId": "a2b70e1b-d40b-452b-b87d-0bf9523cd421"
      },
      "outputs": [
        {
          "output_type": "stream",
          "name": "stdout",
          "text": [
            "[0. 1. 1. 0. 0. 1. 1. 1. 0. 0. 0. 1. 1. 0. 0. 0. 0. 0. 0. 0. 0. 0. 0. 0.\n",
            " 0. 0. 0. 0. 1. 1. 1. 1. 1. 1. 1. 1. 1. 1. 1. 1. 1. 1. 1. 1. 1. 1. 0. 0.\n",
            " 0. 0. 0. 0. 0. 0. 0. 0. 0. 0. 0. 0. 0. 0. 0. 0. 0. 0. 0. 0. 0. 0. 0. 0.\n",
            " 0. 0. 0. 0. 0. 0. 0. 0. 0. 0. 0. 0. 0. 0. 0. 0. 0. 0. 0. 0. 0. 0. 0. 0.\n",
            " 0. 0. 0. 0. 0. 0. 0. 0. 0. 0. 0. 0. 0. 0. 0. 0. 0. 0. 0. 0. 0. 0. 0. 0.\n",
            " 0. 0. 0. 0. 0. 0. 0. 0. 0. 0. 0. 0. 0. 0. 0. 0. 0. 0. 0. 0. 0. 0. 0. 0.\n",
            " 0. 0. 0. 0. 0. 0. 0. 0. 0. 0. 0. 0. 0. 0. 0. 0. 0. 0. 0. 0. 0. 0. 0. 0.\n",
            " 0. 0. 0. 0. 0. 0. 0. 0. 0. 0. 0. 0. 0. 0. 0. 0. 0. 0. 0. 0. 0. 0. 0. 0.\n",
            " 0. 0. 0. 0. 0. 0. 0. 0.]\n",
            "Found 117 unique tokens.\n"
          ]
        }
      ],
      "source": [
        "from keras.preprocessing.text import Tokenizer\n",
        "tokenizer = Tokenizer(num_words=200)\n",
        "tokenizer.fit_on_texts(tinyCorpus)\n",
        "\n",
        "# Directly get the one-hot binary representations.\n",
        "# Note that other vectorization modes than one-hot encoding are supported!\n",
        "one_hot_results = tokenizer.texts_to_matrix(tinyCorpus, mode='binary')\n",
        "# let's look at an example of an encoding ...\n",
        "print(one_hot_results[0])\n",
        "\n",
        "\n",
        "# This is how you can recover the word index that was computed\n",
        "word_index = tokenizer.word_index\n",
        "print('Found %s unique tokens.' % len(word_index))"
      ]
    },
    {
      "cell_type": "markdown",
      "metadata": {
        "id": "p13Daqp__dfB"
      },
      "source": [
        "That was pretty easy. And now we have the texts in a form we can use for deep learning.\n",
        "\n",
        "Instead of the binary choice (a 1 if the word is present and a 0 if not) -- `mode='binary'` we can count how many occurrences of each word there were in the text by using `mode='count'`:\n"
      ]
    },
    {
      "cell_type": "code",
      "execution_count": 6,
      "metadata": {
        "id": "GgOPTdZf_sBy",
        "colab": {
          "base_uri": "https://localhost:8080/"
        },
        "outputId": "1198e53b-27a2-4ed7-dd33-3751dab1919b"
      },
      "outputs": [
        {
          "output_type": "stream",
          "name": "stdout",
          "text": [
            "[0. 0. 3. 2. 1. 0. 0. 1. 0. 0. 0. 0. 0. 1. 1. 0. 0. 0. 0. 0. 0. 0. 0. 0.\n",
            " 0. 0. 0. 0. 0. 0. 0. 0. 0. 0. 0. 0. 0. 0. 0. 0. 0. 0. 0. 0. 0. 0. 1. 1.\n",
            " 1. 1. 1. 1. 1. 1. 1. 1. 1. 1. 1. 1. 0. 0. 0. 0. 0. 0. 0. 0. 0. 0. 0. 0.\n",
            " 0. 0. 0. 0. 0. 0. 0. 0. 0. 0. 0. 0. 0. 0. 0. 0. 0. 0. 0. 0. 0. 0. 0. 0.\n",
            " 0. 0. 0. 0. 0. 0. 0. 0. 0. 0. 0. 0. 0. 0. 0. 0. 0. 0. 0. 0. 0. 0. 0. 0.\n",
            " 0. 0. 0. 0. 0. 0. 0. 0. 0. 0. 0. 0. 0. 0. 0. 0. 0. 0. 0. 0. 0. 0. 0. 0.\n",
            " 0. 0. 0. 0. 0. 0. 0. 0. 0. 0. 0. 0. 0. 0. 0. 0. 0. 0. 0. 0. 0. 0. 0. 0.\n",
            " 0. 0. 0. 0. 0. 0. 0. 0. 0. 0. 0. 0. 0. 0. 0. 0. 0. 0. 0. 0. 0. 0. 0. 0.\n",
            " 0. 0. 0. 0. 0. 0. 0. 0.]\n"
          ]
        }
      ],
      "source": [
        "one_hot_results = tokenizer.texts_to_matrix(tinyCorpus, mode='count')\n",
        "# let's look at an example of an encoding ...\n",
        "print(one_hot_results[1])"
      ]
    },
    {
      "cell_type": "markdown",
      "metadata": {
        "id": "skKDJALg_-Is"
      },
      "source": [
        "So in the first tweet:\n",
        "\n",
        "> 'Our wonderful new Healthcare Bill is now out for review and negotiation. ObamaCare is a complete and total disaster - is imploding fast! Sad',\n",
        "\n",
        "There were 3 occurrences of the word *is*, 2 of *and*, and so on as indicated in the first row above.\n",
        "\n",
        "How do we know what columns are associated with which words? We can use the word_index.\n",
        "\n"
      ]
    },
    {
      "cell_type": "code",
      "execution_count": 7,
      "metadata": {
        "id": "HwaZVV8fAMnL",
        "colab": {
          "base_uri": "https://localhost:8080/"
        },
        "outputId": "6a9fd2fe-2e2b-4f15-d9b3-cd79dce9d4a9"
      },
      "outputs": [
        {
          "output_type": "execute_result",
          "data": {
            "text/plain": [
              "[('the', 1),\n",
              " ('is', 2),\n",
              " ('and', 3),\n",
              " ('a', 4),\n",
              " ('to', 5),\n",
              " ('this', 6),\n",
              " ('sad', 7),\n",
              " ('that', 8),\n",
              " ('in', 9),\n",
              " ('of', 10),\n",
              " ('obama', 11),\n",
              " ('election', 12),\n",
              " ('our', 13),\n",
              " ('out', 14),\n",
              " ('fake', 15),\n",
              " ('news', 16),\n",
              " ('big', 17),\n",
              " ('we', 18),\n",
              " ('are', 19),\n",
              " ('getting', 20),\n",
              " ('by', 21),\n",
              " ('education', 22),\n",
              " ('happier', 23),\n",
              " ('more', 24),\n",
              " ('love', 25),\n",
              " ('compassion', 26),\n",
              " ('world', 27),\n",
              " ('how', 28),\n",
              " ('low', 29),\n",
              " ('has', 30),\n",
              " ('president', 31),\n",
              " ('gone', 32),\n",
              " ('tapp', 33),\n",
              " ('my', 34),\n",
              " ('phones', 35),\n",
              " ('during', 36),\n",
              " ('very', 37),\n",
              " ('sacred', 38),\n",
              " ('process', 39),\n",
              " ('nixon', 40),\n",
              " ('watergate', 41),\n",
              " ('bad', 42),\n",
              " ('or', 43),\n",
              " ('sick', 44),\n",
              " ('guy', 45),\n",
              " ('wonderful', 46),\n",
              " ('new', 47),\n",
              " ('healthcare', 48),\n",
              " ('bill', 49),\n",
              " ('now', 50),\n",
              " ('for', 51),\n",
              " ('review', 52),\n",
              " ('negotiation', 53),\n",
              " ('obamacare', 54),\n",
              " ('complete', 55),\n",
              " ('total', 56),\n",
              " ('disaster', 57),\n",
              " ('imploding', 58),\n",
              " ('fast', 59),\n",
              " (\"don't\", 60),\n",
              " ('let', 61),\n",
              " ('tell', 62),\n",
              " ('you', 63),\n",
              " ('there', 64),\n",
              " ('infighting', 65),\n",
              " ('trump', 66),\n",
              " ('admin', 67),\n",
              " ('along', 68),\n",
              " ('great', 69),\n",
              " ('major', 70),\n",
              " ('things', 71),\n",
              " ('done', 72),\n",
              " ('russia', 73),\n",
              " ('talk', 74),\n",
              " ('put', 75),\n",
              " ('dems', 76),\n",
              " ('played', 77),\n",
              " ('up', 78),\n",
              " ('media', 79),\n",
              " ('order', 80),\n",
              " ('mask', 81),\n",
              " ('defeat', 82),\n",
              " ('illegal', 83),\n",
              " ('leaks', 84),\n",
              " ('purpose', 85),\n",
              " ('build', 86),\n",
              " ('society', 87),\n",
              " ('need', 88),\n",
              " ('holistic', 89),\n",
              " ('approach', 90),\n",
              " ('promotes', 91),\n",
              " ('practice', 92),\n",
              " ('be', 93),\n",
              " ('kind', 94),\n",
              " ('compassionate', 95),\n",
              " ('person', 96),\n",
              " ('inner', 97),\n",
              " ('beauty', 98),\n",
              " ('key', 99),\n",
              " ('factor', 100),\n",
              " ('making', 101),\n",
              " ('better', 102),\n",
              " ('if', 103),\n",
              " ('goal', 104),\n",
              " ('peaceful', 105),\n",
              " ('future', 106),\n",
              " ('only', 107),\n",
              " ('will', 108),\n",
              " ('bring', 109),\n",
              " ('change', 110),\n",
              " ('important', 111),\n",
              " ('because', 112),\n",
              " ('they', 113),\n",
              " ('strengthen', 114),\n",
              " ('us', 115),\n",
              " ('source', 116),\n",
              " ('hope', 117)]"
            ]
          },
          "metadata": {},
          "execution_count": 7
        }
      ],
      "source": [
        "# tokenizer.word_index is a python dictionary containing the word as a key and the column as its value\n",
        "[(k, v) for k, v in sorted(tokenizer.word_index.items(), key=lambda item: item[1])]"
      ]
    },
    {
      "cell_type": "markdown",
      "metadata": {
        "id": "b-F8umxI-JnV"
      },
      "source": [
        "So, *the, is, and, a, to* are the words represented by the first five columns.\n",
        "\n",
        "\n",
        "# TF-IDF representation\n",
        "\n",
        "![](https://raw.githubusercontent.com/zacharski/ml-class/master/labs/pics/bigTFIDF.png)\n",
        "So far we looked at \n",
        "\n",
        "* a binary bag-of-words (whether or not the word was present in the text).\n",
        "* a raw count bag-of-words (counting how many occurrences of each word)\n",
        "\n",
        "There are several other approaches\n",
        "We could represent a document as a bag of words and their probabilities (`mode=\"freq\"`). For example, in *Tom Sawyer* 4.6% of the words are *the* and 0.95% are *Tom*. But the word *the* probably occurs in most novels with that frequency. So in some sense the word *the* is uninteresting. On the other hand *Tom* probably occurs much more frequently in *Tom Sawyer* than it does in *Moby Dick* and, in that way, it is a more interesting word. One way to discount words that occur evenly throughout our document collection is to use TF-IDF.  \n",
        "\n",
        "* TF: Term Frequency - each word uprated by how often the word occurs in the document.\n",
        "* IDF Inverse Document Frequency - how often the word appears in the entire corpus\n",
        "\n",
        "\n",
        "\n",
        "> TF-IDF was first proposed by Karen Sparck Jones as a heuristic--not having any theoretical foundation. Researchers since then have tried to justify this metric by relating it to probablistic theories and information theories. But these attempts have been problematic. Nevertheless, as we will see, this heuristic works quite well. \n",
        "\n",
        "The formula is\n",
        "\n",
        "### $$ tfidf(t, d) = tf(t,d) \\times idf(t) $$\n",
        "\n",
        "where *t* is the term (the word) and *d* is the document.\n",
        "\n",
        "To explain this I will use some made up data--the word counts of 5 emails (and for the sake of later computations let's assume that each email is 100 words long):\n",
        "\n",
        "id | the | sad | compassion |  \n",
        "----: | :---: | :---: | :---:\n",
        "1 | 3 | 0 | 1 \n",
        "2 | 3 | 0 | 0 \n",
        "3 | 4 | 0 | 0 \n",
        "4 | 3 | 2 | 0 \n",
        "5 | 3 | 0 | 2\n",
        "\n",
        "\n",
        "The intuition is this. Even though the word *the* occurs frequently in each email, it is unlikely to help us classify email because it occurs in **every** email. The words *sad* and *compassion* are more interesting as they don't occur uniformly in our collection. \n",
        "\n",
        "#### TF\n",
        "\n",
        "The TF part of TF-IDF refers to how often the word occurs in the document. There are a number of ways to define TF. The simplist is to use the raw count.  So for example, the TF of *the* in document 1 is 3 (the word *the* occurred 3 times in document 1). One problem with this approach is that the raw count is influenced by the length of the document. So if you in your 1,000 word essay on Tom Sachs use 50 occurrences of *the* and Jane in her 90,000 word Zen van life mystery novel use 4,5000 occurrences of *the*, it doesn't mean that Jane is a bigger fan of *the* than you are. Even though there is that disparity in the raw counts it is not a characteristic that will help us distinguish texts about Zen from those about Tom Sachs.  In both the 1,000 word essay and the 90,000 word book about 5% of the words are *the*. A popular measure of TF is to divide the number of occurrences of a word by the total words in the document. So the TF of the word *the* in both your 1,000 word essay and my novel would be .05\n",
        "\n",
        "\n",
        "\n",
        "\n",
        "#### IDF\n",
        "\n",
        "IDF is defined as:\n",
        "\n",
        "### $$ idf(t)=\\log\\frac{1+n_d}{1+df(d,t)}+ 1 $$\n",
        "\n",
        "$n_d$ is the total number of documents and $df(d,t)$ is how many documents the term *t* occurred in. \n",
        "\n",
        "So:\n",
        "\n",
        "### $$ idf(the)=\\log\\frac{1+5}{1+5}+ 1 =  1.5 $$\n",
        "\n",
        "### $$ idf(compassion)=\\log\\frac{1+5}{1+2}+ 1 = \\log{2} + 1 =  2 $$\n",
        "\n",
        "So, *the* in document 1 has a tf-idf of $.03 \\times 1.5 = 0.045$ and *compassion* has a tf-idf of $.01 \\times \\ 2 = 0.02$\n",
        "\n",
        "This is a fairly important concept to understand. I was asked about tf-idf in my oral exam to become a certified instructor at the Deep Learning Institute and fortunately I knew about it. \n",
        "\n",
        "It is also important to know that while it works well as a heuristic and has been around since the 70s, there really is no theoretical foundation to it. \n",
        "\n",
        "With all that as background, it is easy to convert a document collection into an array of TFIDF values:"
      ]
    },
    {
      "cell_type": "code",
      "execution_count": 8,
      "metadata": {
        "id": "-KVXgJ3R9Pmf",
        "colab": {
          "base_uri": "https://localhost:8080/"
        },
        "outputId": "5b873ceb-fe96-4075-db58-941ff5f8a001"
      },
      "outputs": [
        {
          "output_type": "stream",
          "name": "stdout",
          "text": [
            "[0.         0.         1.33469384 1.29041528 0.84729786 0.\n",
            " 0.         1.09861229 0.         0.         0.         0.\n",
            " 0.         1.29928298 1.29928298 0.         0.         0.\n",
            " 0.         0.         0.         0.         0.         0.\n",
            " 0.         0.         0.         0.         0.         0.\n",
            " 0.         0.         0.         0.         0.         0.\n",
            " 0.         0.         0.         0.         0.         0.\n",
            " 0.         0.         0.         0.         1.60943791 1.60943791\n",
            " 1.60943791 1.60943791 1.60943791 1.60943791 1.60943791 1.60943791\n",
            " 1.60943791 1.60943791 1.60943791 1.60943791 1.60943791 1.60943791\n",
            " 0.         0.         0.         0.         0.         0.\n",
            " 0.         0.         0.         0.         0.         0.\n",
            " 0.         0.         0.         0.         0.         0.\n",
            " 0.         0.         0.         0.         0.         0.\n",
            " 0.         0.         0.         0.         0.         0.\n",
            " 0.         0.         0.         0.         0.         0.\n",
            " 0.         0.         0.         0.         0.         0.\n",
            " 0.         0.         0.         0.         0.         0.\n",
            " 0.         0.         0.         0.         0.         0.\n",
            " 0.         0.         0.         0.         0.         0.\n",
            " 0.         0.         0.         0.         0.         0.\n",
            " 0.         0.         0.         0.         0.         0.\n",
            " 0.         0.         0.         0.         0.         0.\n",
            " 0.         0.         0.         0.         0.         0.\n",
            " 0.         0.         0.         0.         0.         0.\n",
            " 0.         0.         0.         0.         0.         0.\n",
            " 0.         0.         0.         0.         0.         0.\n",
            " 0.         0.         0.         0.         0.         0.\n",
            " 0.         0.         0.         0.         0.         0.\n",
            " 0.         0.         0.         0.         0.         0.\n",
            " 0.         0.         0.         0.         0.         0.\n",
            " 0.         0.         0.         0.         0.         0.\n",
            " 0.         0.         0.         0.         0.         0.\n",
            " 0.         0.        ]\n"
          ]
        }
      ],
      "source": [
        "one_hot_results = tokenizer.texts_to_matrix(tinyCorpus, mode='tfidf')\n",
        "# let's look at an example of an encoding ...\n",
        "print(one_hot_results[1])"
      ]
    },
    {
      "cell_type": "markdown",
      "metadata": {
        "id": "NTRonUNXFZRj"
      },
      "source": [
        "Again, once we have this representation we can use the deep learning methods we already used.\n",
        "\n",
        "\n",
        "## An initial example - IMDB\n",
        "\n",
        "![](https://raw.githubusercontent.com/zacharski/ml-class/master/labs/pics/imdb.png)\n",
        "\n",
        "The Internet Movie DataBase consists of 50,000 movie reviews and contains an equal number of positive and negative reviews. The task of identifying the affect of a text (whether it is postive or negative, or how strongly someone feels about the topic) is called **sentiment analysis**. \n",
        "\n",
        "### Load the data"
      ]
    },
    {
      "cell_type": "code",
      "execution_count": 9,
      "metadata": {
        "id": "xLDR_eiY1YCL",
        "colab": {
          "base_uri": "https://localhost:8080/"
        },
        "outputId": "843dff6b-8a81-4766-ef69-1d3dc2efd7a8"
      },
      "outputs": [
        {
          "output_type": "stream",
          "name": "stdout",
          "text": [
            "--2023-04-20 22:40:13--  http://zacharski.org/files/courses/cs419/imdb.zip\n",
            "Resolving zacharski.org (zacharski.org)... 198.199.65.227\n",
            "Connecting to zacharski.org (zacharski.org)|198.199.65.227|:80... connected.\n",
            "HTTP request sent, awaiting response... 200 OK\n",
            "Length: 26559010 (25M) [application/zip]\n",
            "Saving to: ‘imdb.zip’\n",
            "\n",
            "imdb.zip            100%[===================>]  25.33M  6.99MB/s    in 3.6s    \n",
            "\n",
            "2023-04-20 22:40:18 (6.99 MB/s) - ‘imdb.zip’ saved [26559010/26559010]\n",
            "\n",
            "Archive:  imdb.zip\n",
            "  inflating: imdb.csv                \n"
          ]
        }
      ],
      "source": [
        "!wget http://zacharski.org/files/courses/cs419/imdb.zip\n",
        "!unzip imdb.zip"
      ]
    },
    {
      "cell_type": "code",
      "execution_count": 10,
      "metadata": {
        "id": "YLkosiEaRc2W",
        "colab": {
          "base_uri": "https://localhost:8080/"
        },
        "outputId": "88cde485-669a-485d-b389-5ee26ea87271"
      },
      "outputs": [
        {
          "output_type": "stream",
          "name": "stdout",
          "text": [
            "total 90608\n",
            "-rw-r--r-- 1 root root 66212309 Oct 31  2020 imdb.csv\n",
            "-rw-r--r-- 1 root root 26559010 Oct 31  2020 imdb.zip\n",
            "drwxr-xr-x 1 root root     4096 Apr 19 13:37 sample_data\n"
          ]
        }
      ],
      "source": [
        "!ls -l"
      ]
    },
    {
      "cell_type": "markdown",
      "metadata": {
        "id": "dAnWmyR3rgK6"
      },
      "source": [
        "The zip file only contained one file so we could have read it directly.  Since we already unzipped it let's use the unzipped version."
      ]
    },
    {
      "cell_type": "code",
      "execution_count": 11,
      "metadata": {
        "id": "T0tpCqv_BkWF",
        "colab": {
          "base_uri": "https://localhost:8080/",
          "height": 419
        },
        "outputId": "4314a28c-944e-45c3-f0cf-a52a1d3c1629"
      },
      "outputs": [
        {
          "output_type": "execute_result",
          "data": {
            "text/plain": [
              "                                                  review sentiment\n",
              "0      One of the other reviewers has mentioned that ...  positive\n",
              "1      A wonderful little production. <br /><br />The...  positive\n",
              "2      I thought this was a wonderful way to spend ti...  positive\n",
              "3      Basically there's a family where a little boy ...  negative\n",
              "4      Petter Mattei's \"Love in the Time of Money\" is...  positive\n",
              "...                                                  ...       ...\n",
              "49995  I thought this movie did a down right good job...  positive\n",
              "49996  Bad plot, bad dialogue, bad acting, idiotic di...  negative\n",
              "49997  I am a Catholic taught in parochial elementary...  negative\n",
              "49998  I'm going to have to disagree with the previou...  negative\n",
              "49999  No one expects the Star Trek movies to be high...  negative\n",
              "\n",
              "[50000 rows x 2 columns]"
            ],
            "text/html": [
              "\n",
              "  <div id=\"df-928fe67a-d50d-444f-ad26-9b0af6a61c25\">\n",
              "    <div class=\"colab-df-container\">\n",
              "      <div>\n",
              "<style scoped>\n",
              "    .dataframe tbody tr th:only-of-type {\n",
              "        vertical-align: middle;\n",
              "    }\n",
              "\n",
              "    .dataframe tbody tr th {\n",
              "        vertical-align: top;\n",
              "    }\n",
              "\n",
              "    .dataframe thead th {\n",
              "        text-align: right;\n",
              "    }\n",
              "</style>\n",
              "<table border=\"1\" class=\"dataframe\">\n",
              "  <thead>\n",
              "    <tr style=\"text-align: right;\">\n",
              "      <th></th>\n",
              "      <th>review</th>\n",
              "      <th>sentiment</th>\n",
              "    </tr>\n",
              "  </thead>\n",
              "  <tbody>\n",
              "    <tr>\n",
              "      <th>0</th>\n",
              "      <td>One of the other reviewers has mentioned that ...</td>\n",
              "      <td>positive</td>\n",
              "    </tr>\n",
              "    <tr>\n",
              "      <th>1</th>\n",
              "      <td>A wonderful little production. &lt;br /&gt;&lt;br /&gt;The...</td>\n",
              "      <td>positive</td>\n",
              "    </tr>\n",
              "    <tr>\n",
              "      <th>2</th>\n",
              "      <td>I thought this was a wonderful way to spend ti...</td>\n",
              "      <td>positive</td>\n",
              "    </tr>\n",
              "    <tr>\n",
              "      <th>3</th>\n",
              "      <td>Basically there's a family where a little boy ...</td>\n",
              "      <td>negative</td>\n",
              "    </tr>\n",
              "    <tr>\n",
              "      <th>4</th>\n",
              "      <td>Petter Mattei's \"Love in the Time of Money\" is...</td>\n",
              "      <td>positive</td>\n",
              "    </tr>\n",
              "    <tr>\n",
              "      <th>...</th>\n",
              "      <td>...</td>\n",
              "      <td>...</td>\n",
              "    </tr>\n",
              "    <tr>\n",
              "      <th>49995</th>\n",
              "      <td>I thought this movie did a down right good job...</td>\n",
              "      <td>positive</td>\n",
              "    </tr>\n",
              "    <tr>\n",
              "      <th>49996</th>\n",
              "      <td>Bad plot, bad dialogue, bad acting, idiotic di...</td>\n",
              "      <td>negative</td>\n",
              "    </tr>\n",
              "    <tr>\n",
              "      <th>49997</th>\n",
              "      <td>I am a Catholic taught in parochial elementary...</td>\n",
              "      <td>negative</td>\n",
              "    </tr>\n",
              "    <tr>\n",
              "      <th>49998</th>\n",
              "      <td>I'm going to have to disagree with the previou...</td>\n",
              "      <td>negative</td>\n",
              "    </tr>\n",
              "    <tr>\n",
              "      <th>49999</th>\n",
              "      <td>No one expects the Star Trek movies to be high...</td>\n",
              "      <td>negative</td>\n",
              "    </tr>\n",
              "  </tbody>\n",
              "</table>\n",
              "<p>50000 rows × 2 columns</p>\n",
              "</div>\n",
              "      <button class=\"colab-df-convert\" onclick=\"convertToInteractive('df-928fe67a-d50d-444f-ad26-9b0af6a61c25')\"\n",
              "              title=\"Convert this dataframe to an interactive table.\"\n",
              "              style=\"display:none;\">\n",
              "        \n",
              "  <svg xmlns=\"http://www.w3.org/2000/svg\" height=\"24px\"viewBox=\"0 0 24 24\"\n",
              "       width=\"24px\">\n",
              "    <path d=\"M0 0h24v24H0V0z\" fill=\"none\"/>\n",
              "    <path d=\"M18.56 5.44l.94 2.06.94-2.06 2.06-.94-2.06-.94-.94-2.06-.94 2.06-2.06.94zm-11 1L8.5 8.5l.94-2.06 2.06-.94-2.06-.94L8.5 2.5l-.94 2.06-2.06.94zm10 10l.94 2.06.94-2.06 2.06-.94-2.06-.94-.94-2.06-.94 2.06-2.06.94z\"/><path d=\"M17.41 7.96l-1.37-1.37c-.4-.4-.92-.59-1.43-.59-.52 0-1.04.2-1.43.59L10.3 9.45l-7.72 7.72c-.78.78-.78 2.05 0 2.83L4 21.41c.39.39.9.59 1.41.59.51 0 1.02-.2 1.41-.59l7.78-7.78 2.81-2.81c.8-.78.8-2.07 0-2.86zM5.41 20L4 18.59l7.72-7.72 1.47 1.35L5.41 20z\"/>\n",
              "  </svg>\n",
              "      </button>\n",
              "      \n",
              "  <style>\n",
              "    .colab-df-container {\n",
              "      display:flex;\n",
              "      flex-wrap:wrap;\n",
              "      gap: 12px;\n",
              "    }\n",
              "\n",
              "    .colab-df-convert {\n",
              "      background-color: #E8F0FE;\n",
              "      border: none;\n",
              "      border-radius: 50%;\n",
              "      cursor: pointer;\n",
              "      display: none;\n",
              "      fill: #1967D2;\n",
              "      height: 32px;\n",
              "      padding: 0 0 0 0;\n",
              "      width: 32px;\n",
              "    }\n",
              "\n",
              "    .colab-df-convert:hover {\n",
              "      background-color: #E2EBFA;\n",
              "      box-shadow: 0px 1px 2px rgba(60, 64, 67, 0.3), 0px 1px 3px 1px rgba(60, 64, 67, 0.15);\n",
              "      fill: #174EA6;\n",
              "    }\n",
              "\n",
              "    [theme=dark] .colab-df-convert {\n",
              "      background-color: #3B4455;\n",
              "      fill: #D2E3FC;\n",
              "    }\n",
              "\n",
              "    [theme=dark] .colab-df-convert:hover {\n",
              "      background-color: #434B5C;\n",
              "      box-shadow: 0px 1px 3px 1px rgba(0, 0, 0, 0.15);\n",
              "      filter: drop-shadow(0px 1px 2px rgba(0, 0, 0, 0.3));\n",
              "      fill: #FFFFFF;\n",
              "    }\n",
              "  </style>\n",
              "\n",
              "      <script>\n",
              "        const buttonEl =\n",
              "          document.querySelector('#df-928fe67a-d50d-444f-ad26-9b0af6a61c25 button.colab-df-convert');\n",
              "        buttonEl.style.display =\n",
              "          google.colab.kernel.accessAllowed ? 'block' : 'none';\n",
              "\n",
              "        async function convertToInteractive(key) {\n",
              "          const element = document.querySelector('#df-928fe67a-d50d-444f-ad26-9b0af6a61c25');\n",
              "          const dataTable =\n",
              "            await google.colab.kernel.invokeFunction('convertToInteractive',\n",
              "                                                     [key], {});\n",
              "          if (!dataTable) return;\n",
              "\n",
              "          const docLinkHtml = 'Like what you see? Visit the ' +\n",
              "            '<a target=\"_blank\" href=https://colab.research.google.com/notebooks/data_table.ipynb>data table notebook</a>'\n",
              "            + ' to learn more about interactive tables.';\n",
              "          element.innerHTML = '';\n",
              "          dataTable['output_type'] = 'display_data';\n",
              "          await google.colab.output.renderOutput(dataTable, element);\n",
              "          const docLink = document.createElement('div');\n",
              "          docLink.innerHTML = docLinkHtml;\n",
              "          element.appendChild(docLink);\n",
              "        }\n",
              "      </script>\n",
              "    </div>\n",
              "  </div>\n",
              "  "
            ]
          },
          "metadata": {},
          "execution_count": 11
        }
      ],
      "source": [
        "import pandas as pd\n",
        "data = pd.read_csv('imdb.csv')\n",
        "data"
      ]
    },
    {
      "cell_type": "markdown",
      "metadata": {
        "id": "Eg97QeqW2KoT"
      },
      "source": [
        "Now let's separate the texts from the labels. Also note that the labels are the strings *positive* and *negative* so let's convert those to 1 and 0."
      ]
    },
    {
      "cell_type": "code",
      "execution_count": 12,
      "metadata": {
        "id": "ql-GmhdXLShN",
        "colab": {
          "base_uri": "https://localhost:8080/"
        },
        "outputId": "62e1af22-42a2-403d-ecf0-576344319e53"
      },
      "outputs": [
        {
          "output_type": "execute_result",
          "data": {
            "text/plain": [
              "0        1\n",
              "1        1\n",
              "2        1\n",
              "3        0\n",
              "4        1\n",
              "        ..\n",
              "49995    1\n",
              "49996    0\n",
              "49997    0\n",
              "49998    0\n",
              "49999    0\n",
              "Name: sentiment, Length: 50000, dtype: int64"
            ]
          },
          "metadata": {},
          "execution_count": 12
        }
      ],
      "source": [
        "data_text = data.review\n",
        "data_label =data.sentiment\n",
        "data_label =  data['sentiment'].apply(lambda x: 1 if x == 'positive' else 0)\n",
        "data_label "
      ]
    },
    {
      "cell_type": "markdown",
      "metadata": {
        "id": "NXn9kHUb2cn1"
      },
      "source": [
        "### TFIDF\n",
        "Now we are going to convert the text represented as strings to a tfidf representation. \n",
        "\n",
        "Let's use the 5,000 most common words in the documents (`Tokenizer(num_words=5000)`)\n",
        "\n",
        "This will take a bit of time!"
      ]
    },
    {
      "cell_type": "code",
      "execution_count": 13,
      "metadata": {
        "id": "XOjTzQdOJz-Z",
        "colab": {
          "base_uri": "https://localhost:8080/"
        },
        "outputId": "69a92468-3aa9-4bba-a6d9-c21fd3173bbd"
      },
      "outputs": [
        {
          "output_type": "stream",
          "name": "stdout",
          "text": [
            "[0.         2.63159248 1.98374445 ... 0.         0.         0.        ]\n"
          ]
        }
      ],
      "source": [
        "from keras.preprocessing.text import Tokenizer\n",
        "tokenizer = Tokenizer(num_words=5000)\n",
        "tokenizer.fit_on_texts(data_text)\n",
        "\n",
        "# Directly get the one-hot binary representations.\n",
        "# Note that other vectorization modes than one-hot encoding are supported!\n",
        "one_hot_results = tokenizer.texts_to_matrix(data_text, mode='tfidf')\n",
        "# let's look at an example of an encoding ...\n",
        "print(one_hot_results[0])"
      ]
    },
    {
      "cell_type": "markdown",
      "metadata": {
        "id": "dC35HHYgbUqW"
      },
      "source": [
        "###  Divide into training and test sets"
      ]
    },
    {
      "cell_type": "code",
      "execution_count": 14,
      "metadata": {
        "id": "dbPLee2_MJEd",
        "colab": {
          "base_uri": "https://localhost:8080/"
        },
        "outputId": "cb96611f-14cd-4721-e620-ef03741645eb"
      },
      "outputs": [
        {
          "output_type": "execute_result",
          "data": {
            "text/plain": [
              "33553    1\n",
              "9427     1\n",
              "199      0\n",
              "12447    1\n",
              "39489    0\n",
              "        ..\n",
              "28567    0\n",
              "25079    1\n",
              "18707    1\n",
              "15200    0\n",
              "5857     1\n",
              "Name: sentiment, Length: 10000, dtype: int64"
            ]
          },
          "metadata": {},
          "execution_count": 14
        }
      ],
      "source": [
        "from sklearn.model_selection import train_test_split\n",
        "imdb_train_text, imdb_test_text, imdb_train_labels, imdb_test_labels = train_test_split(one_hot_results, data_label, test_size = 0.2, random_state=42)\n",
        "imdb_test_labels\n"
      ]
    },
    {
      "cell_type": "markdown",
      "metadata": {
        "id": "04NGZqtVdOpF"
      },
      "source": [
        "### Build a deep learning model\n",
        "Let's go with a basic, no frills, model:"
      ]
    },
    {
      "cell_type": "code",
      "execution_count": 15,
      "metadata": {
        "id": "Lj35GJladKJs",
        "colab": {
          "base_uri": "https://localhost:8080/",
          "height": 35
        },
        "outputId": "1613a3f0-ccc3-4ee7-b9be-4ab2d6402884"
      },
      "outputs": [
        {
          "output_type": "execute_result",
          "data": {
            "text/plain": [
              "'2.12.0'"
            ],
            "application/vnd.google.colaboratory.intrinsic+json": {
              "type": "string"
            }
          },
          "metadata": {},
          "execution_count": 15
        }
      ],
      "source": [
        "import keras\n",
        "keras.__version__"
      ]
    },
    {
      "cell_type": "markdown",
      "metadata": {
        "id": "M3BxwR6u3YnG"
      },
      "source": [
        "In our tokenizer we specified a vocabulary size of 5,000 words, so that is our `input_shape`. We are trying to predict a binary 1,0 classification so we need \n",
        "\n",
        "```\n",
        "network.add(layers.Dense(1, activation='sigmoid'))\n",
        "```\n",
        "at the very end of our network. \n",
        "\n",
        "We would like a network with\n",
        "\n",
        "1. a dense layer with 512 nodes and input shape (5000,)\n",
        "2. a dense layer of 256\n",
        "3. A dense layer of 128\n",
        "4. A dense layer (the output layer) of 1 with the sigmoid activation function.\n"
      ]
    },
    {
      "cell_type": "code",
      "execution_count": 16,
      "metadata": {
        "id": "4Pb3pBO7dpS4"
      },
      "outputs": [],
      "source": [
        "from keras import models\n",
        "from keras import layers\n",
        "\n",
        "network = models.Sequential()\n",
        "network.add(layers.Dense(512, activation='relu', input_shape=(5000,)))\n",
        "network.add(layers.Dense(256, activation='relu'))\n",
        "network.add(layers.Dense(128, activation='relu'))\n",
        "network.add(layers.Dense(1, activation='sigmoid'))"
      ]
    },
    {
      "cell_type": "markdown",
      "metadata": {
        "id": "0tqZ-8UO30wu"
      },
      "source": [
        "Again, we are predicting a binary 1,0 classification (was it a positive review or not) so we will use `binary_crossentropy` as our loss function"
      ]
    },
    {
      "cell_type": "code",
      "execution_count": 17,
      "metadata": {
        "id": "nNchu2tmerGA"
      },
      "outputs": [],
      "source": [
        "from keras import optimizers\n",
        "network.compile(optimizer=optimizers.RMSprop(learning_rate=1e-4),\n",
        "                loss='binary_crossentropy',\n",
        "                metrics=['accuracy'])"
      ]
    },
    {
      "cell_type": "code",
      "execution_count": 18,
      "metadata": {
        "id": "F5PiezmrexYS",
        "colab": {
          "base_uri": "https://localhost:8080/"
        },
        "outputId": "c4782143-ba2e-4181-f56e-0ae8d6c8ee84"
      },
      "outputs": [
        {
          "output_type": "stream",
          "name": "stdout",
          "text": [
            "Model: \"sequential\"\n",
            "_________________________________________________________________\n",
            " Layer (type)                Output Shape              Param #   \n",
            "=================================================================\n",
            " dense (Dense)               (None, 512)               2560512   \n",
            "                                                                 \n",
            " dense_1 (Dense)             (None, 256)               131328    \n",
            "                                                                 \n",
            " dense_2 (Dense)             (None, 128)               32896     \n",
            "                                                                 \n",
            " dense_3 (Dense)             (None, 1)                 129       \n",
            "                                                                 \n",
            "=================================================================\n",
            "Total params: 2,724,865\n",
            "Trainable params: 2,724,865\n",
            "Non-trainable params: 0\n",
            "_________________________________________________________________\n"
          ]
        }
      ],
      "source": [
        "network.summary()"
      ]
    },
    {
      "cell_type": "markdown",
      "metadata": {
        "id": "bTbirosf4JSO"
      },
      "source": [
        "### fitting to the data\n",
        "Now it is time to fit the network to the data. Let's use 20% of the data for validation and run for 30 epochs."
      ]
    },
    {
      "cell_type": "code",
      "execution_count": 19,
      "metadata": {
        "id": "yEP-UYpIe2Vb",
        "colab": {
          "base_uri": "https://localhost:8080/"
        },
        "outputId": "20d7d597-a619-4d51-df17-6414b82a6b35"
      },
      "outputs": [
        {
          "output_type": "stream",
          "name": "stdout",
          "text": [
            "Epoch 1/30\n",
            "100/100 [==============================] - 5s 13ms/step - loss: 0.4287 - accuracy: 0.8172 - val_loss: 0.3065 - val_accuracy: 0.8849\n",
            "Epoch 2/30\n",
            "100/100 [==============================] - 1s 8ms/step - loss: 0.2255 - accuracy: 0.9173 - val_loss: 0.2847 - val_accuracy: 0.8903\n",
            "Epoch 3/30\n",
            "100/100 [==============================] - 1s 8ms/step - loss: 0.1549 - accuracy: 0.9462 - val_loss: 0.3007 - val_accuracy: 0.8885\n",
            "Epoch 4/30\n",
            "100/100 [==============================] - 1s 8ms/step - loss: 0.1054 - accuracy: 0.9667 - val_loss: 0.3288 - val_accuracy: 0.8891\n",
            "Epoch 5/30\n",
            "100/100 [==============================] - 1s 8ms/step - loss: 0.0666 - accuracy: 0.9808 - val_loss: 0.3773 - val_accuracy: 0.8840\n",
            "Epoch 6/30\n",
            "100/100 [==============================] - 1s 9ms/step - loss: 0.0375 - accuracy: 0.9906 - val_loss: 0.4409 - val_accuracy: 0.8820\n",
            "Epoch 7/30\n",
            "100/100 [==============================] - 1s 11ms/step - loss: 0.0181 - accuracy: 0.9957 - val_loss: 0.5292 - val_accuracy: 0.8820\n",
            "Epoch 8/30\n",
            "100/100 [==============================] - 1s 8ms/step - loss: 0.0076 - accuracy: 0.9985 - val_loss: 0.6251 - val_accuracy: 0.8786\n",
            "Epoch 9/30\n",
            "100/100 [==============================] - 1s 8ms/step - loss: 0.0032 - accuracy: 0.9993 - val_loss: 0.7198 - val_accuracy: 0.8795\n",
            "Epoch 10/30\n",
            "100/100 [==============================] - 1s 7ms/step - loss: 0.0013 - accuracy: 0.9997 - val_loss: 0.8354 - val_accuracy: 0.8769\n",
            "Epoch 11/30\n",
            "100/100 [==============================] - 1s 7ms/step - loss: 4.6801e-04 - accuracy: 0.9999 - val_loss: 0.9367 - val_accuracy: 0.8765\n",
            "Epoch 12/30\n",
            "100/100 [==============================] - 1s 8ms/step - loss: 1.0442e-04 - accuracy: 1.0000 - val_loss: 1.0445 - val_accuracy: 0.8794\n",
            "Epoch 13/30\n",
            "100/100 [==============================] - 1s 8ms/step - loss: 2.6369e-05 - accuracy: 1.0000 - val_loss: 1.3270 - val_accuracy: 0.8754\n",
            "Epoch 14/30\n",
            "100/100 [==============================] - 1s 7ms/step - loss: 5.3876e-04 - accuracy: 0.9999 - val_loss: 1.2997 - val_accuracy: 0.8783\n",
            "Epoch 15/30\n",
            "100/100 [==============================] - 1s 7ms/step - loss: 3.0267e-06 - accuracy: 1.0000 - val_loss: 1.3245 - val_accuracy: 0.8784\n",
            "Epoch 16/30\n",
            "100/100 [==============================] - 1s 8ms/step - loss: 1.3231e-06 - accuracy: 1.0000 - val_loss: 1.4553 - val_accuracy: 0.8785\n",
            "Epoch 17/30\n",
            "100/100 [==============================] - 1s 8ms/step - loss: 3.7584e-07 - accuracy: 1.0000 - val_loss: 1.5519 - val_accuracy: 0.8777\n",
            "Epoch 18/30\n",
            "100/100 [==============================] - 1s 7ms/step - loss: 1.6371e-07 - accuracy: 1.0000 - val_loss: 1.6134 - val_accuracy: 0.8774\n",
            "Epoch 19/30\n",
            "100/100 [==============================] - 1s 7ms/step - loss: 8.6605e-08 - accuracy: 1.0000 - val_loss: 1.6521 - val_accuracy: 0.8780\n",
            "Epoch 20/30\n",
            "100/100 [==============================] - 1s 9ms/step - loss: 5.2982e-08 - accuracy: 1.0000 - val_loss: 1.6849 - val_accuracy: 0.8788\n",
            "Epoch 21/30\n",
            "100/100 [==============================] - 1s 9ms/step - loss: 3.6271e-08 - accuracy: 1.0000 - val_loss: 1.7104 - val_accuracy: 0.8785\n",
            "Epoch 22/30\n",
            "100/100 [==============================] - 1s 9ms/step - loss: 2.6605e-08 - accuracy: 1.0000 - val_loss: 1.7316 - val_accuracy: 0.8784\n",
            "Epoch 23/30\n",
            "100/100 [==============================] - 1s 7ms/step - loss: 2.0567e-08 - accuracy: 1.0000 - val_loss: 1.7492 - val_accuracy: 0.8784\n",
            "Epoch 24/30\n",
            "100/100 [==============================] - 1s 8ms/step - loss: 1.6534e-08 - accuracy: 1.0000 - val_loss: 1.7646 - val_accuracy: 0.8783\n",
            "Epoch 25/30\n",
            "100/100 [==============================] - 1s 8ms/step - loss: 1.3769e-08 - accuracy: 1.0000 - val_loss: 1.7779 - val_accuracy: 0.8780\n",
            "Epoch 26/30\n",
            "100/100 [==============================] - 1s 7ms/step - loss: 1.1721e-08 - accuracy: 1.0000 - val_loss: 1.7901 - val_accuracy: 0.8777\n",
            "Epoch 27/30\n",
            "100/100 [==============================] - 1s 7ms/step - loss: 1.0190e-08 - accuracy: 1.0000 - val_loss: 1.8008 - val_accuracy: 0.8780\n",
            "Epoch 28/30\n",
            "100/100 [==============================] - 1s 8ms/step - loss: 9.0119e-09 - accuracy: 1.0000 - val_loss: 1.8097 - val_accuracy: 0.8781\n",
            "Epoch 29/30\n",
            "100/100 [==============================] - 1s 8ms/step - loss: 8.0980e-09 - accuracy: 1.0000 - val_loss: 1.8184 - val_accuracy: 0.8783\n",
            "Epoch 30/30\n",
            "100/100 [==============================] - 1s 8ms/step - loss: 7.3376e-09 - accuracy: 1.0000 - val_loss: 1.8265 - val_accuracy: 0.8783\n"
          ]
        }
      ],
      "source": [
        "history = network.fit(\n",
        "      imdb_train_text, imdb_train_labels,\n",
        "      steps_per_epoch=100,\n",
        "      epochs=30,\n",
        "      validation_split=0.2,\n",
        "      validation_steps=50)"
      ]
    },
    {
      "cell_type": "markdown",
      "metadata": {
        "id": "U1R-XCz-4gEN"
      },
      "source": [
        "### Our accuracy and loss\n",
        "Let's plot out both the training and validation accuracy and loss."
      ]
    },
    {
      "cell_type": "code",
      "execution_count": 20,
      "metadata": {
        "id": "x6oPJSbM4gW8",
        "colab": {
          "base_uri": "https://localhost:8080/",
          "height": 887
        },
        "outputId": "258cdbea-1520-4422-95fb-806a22cacf88"
      },
      "outputs": [
        {
          "output_type": "display_data",
          "data": {
            "text/plain": [
              "<Figure size 640x480 with 1 Axes>"
            ],
            "image/png": "[encoded data removed]"
          },
          "metadata": {}
        },
        {
          "output_type": "display_data",
          "data": {
            "text/plain": [
              "<Figure size 640x480 with 1 Axes>"
            ],
            "image/png": "[encoded data removed]"
          },
          "metadata": {}
        }
      ],
      "source": [
        "import matplotlib.pyplot as plt\n",
        "\n",
        "acc = history.history['accuracy']\n",
        "val_acc = history.history['val_accuracy']\n",
        "loss = history.history['loss']\n",
        "val_loss = history.history['val_loss']\n",
        "\n",
        "epochs = range(len(acc))\n",
        "\n",
        "plt.plot(epochs, acc, 'bo', label='Training acc')\n",
        "plt.plot(epochs, val_acc, 'b', label='Validation acc')\n",
        "plt.title('Training and validation accuracy')\n",
        "plt.legend()\n",
        "\n",
        "plt.figure()\n",
        "\n",
        "plt.plot(epochs, loss, 'bo', label='Training loss')\n",
        "plt.plot(epochs, val_loss, 'b', label='Validation loss')\n",
        "plt.title('Training and validation loss')\n",
        "plt.legend()\n",
        "\n",
        "plt.show()"
      ]
    },
    {
      "cell_type": "markdown",
      "metadata": {
        "id": "OiqOLIsJ5bg8"
      },
      "source": [
        "What is your interpretation of the plots?\n",
        "\n",
        ".\n",
        "\n",
        ".\n",
        "\n",
        ".\n",
        "\n",
        "\n",
        "Okay, that definitely looks like overfitting. We will examine ways of ameliorating overfitting shortly.  \n",
        "\n",
        "Let's see how our network performs on the test data"
      ]
    },
    {
      "cell_type": "code",
      "execution_count": 21,
      "metadata": {
        "id": "Byb8BGdL8Xtr",
        "colab": {
          "base_uri": "https://localhost:8080/"
        },
        "outputId": "33631b7c-6e99-4b90-defe-a7dec3285511"
      },
      "outputs": [
        {
          "output_type": "stream",
          "name": "stdout",
          "text": [
            "313/313 [==============================] - 1s 2ms/step - loss: 1.7545 - accuracy: 0.8754\n",
            "Accuracy:  0.8754000067710876\n"
          ]
        }
      ],
      "source": [
        "scoreSeg = network.evaluate(imdb_test_text, imdb_test_labels)\n",
        "print(\"Accuracy: \", scoreSeg[1])"
      ]
    },
    {
      "cell_type": "markdown",
      "metadata": {
        "id": "AaPCNeGgrTdF"
      },
      "source": [
        "Not bad for our first attempt at text classification!!!"
      ]
    },
    {
      "cell_type": "markdown",
      "metadata": {
        "id": "s3Y8Ck5hCfYk"
      },
      "source": [
        "![](https://raw.githubusercontent.com/zacharski/datamining-guide/master/labs/pics/torchdivide.png)\n",
        "\n",
        "\n",
        "# <font color='#EE4C2C'>Climate Change ...</font> \n",
        "\n",
        "\n",
        "\n",
        "![](https://raw.githubusercontent.com/zacharski/ml-class/master/labs/pics/factfake.jpeg)\n",
        "\n",
        "On Twitter there are people who deny climate change:\n",
        "\n",
        "> I don't know about you guys, but I think climate change is -- as Lord Monckton said -- bullsh*t\n",
        "\n",
        "and people who believe it is real:\n",
        "\n",
        "> Millennials, and Gen z, and all these folks that come after us, are looking up and we’re like ‘the world will end in 12 years if we don’t address climate change, and your biggest issue is how are we gonna pay for it?\n",
        "\n",
        "We are going to investigate the sentiment of tweets from the Twitter Climate Change Sentiment Dataset compiled by Edward Qian. The dataset consists of 43,943 tweets. Instead of a binary label (a positive sentiment on climate change or a negative, there are four possible labels:\n",
        "\n",
        "Label | Description\n",
        ":--- | :---- \n",
        "News | the tweet links to factual news about climate change\n",
        "Pro | the tweet supports the belief of man-made climate change\n",
        "Neutral |  the tweet neither supports nor refutes the belief of man-made climate change\n",
        "Anti | the tweet does not believe in man-made climate change\n",
        "\n",
        "\n",
        "![](https://raw.githubusercontent.com/zacharski/datamining-guide/master/labs/pics/PyDivideTwo.png)\n",
        "## <font color='#EE4C2C'>1. Load the data.</font> \n",
        "\n",
        "The file is \n",
        "\n",
        "https://raw.githubusercontent.com/zacharski/ml-class/master/data/climateSentiment.csv.zip\n",
        "\n",
        "You will need:\n",
        "\n",
        "* to load the file\n",
        "* convert the text of the tweet to a tf-idf representation. We will start with using the 5,000 most common words\n",
        "* convert the labels\n",
        "* divide into training and testing."
      ]
    },
    {
      "cell_type": "code",
      "source": [
        "!wget https://raw.githubusercontent.com/zacharski/ml-class/master/data/climateSentiment.csv.zip"
      ],
      "metadata": {
        "colab": {
          "base_uri": "https://localhost:8080/"
        },
        "id": "IisNRcd_3snC",
        "outputId": "ad5ab43d-e2e6-4e1c-8d5d-494e8723e8ff"
      },
      "execution_count": 22,
      "outputs": [
        {
          "output_type": "stream",
          "name": "stdout",
          "text": [
            "--2023-04-20 22:53:44--  https://raw.githubusercontent.com/zacharski/ml-class/master/data/climateSentiment.csv.zip\n",
            "Resolving raw.githubusercontent.com (raw.githubusercontent.com)... 185.199.108.133, 185.199.109.133, 185.199.110.133, ...\n",
            "Connecting to raw.githubusercontent.com (raw.githubusercontent.com)|185.199.108.133|:443... connected.\n",
            "HTTP request sent, awaiting response... 200 OK\n",
            "Length: 2589663 (2.5M) [application/zip]\n",
            "Saving to: ‘climateSentiment.csv.zip’\n",
            "\n",
            "climateSentiment.cs 100%[===================>]   2.47M  --.-KB/s    in 0.01s   \n",
            "\n",
            "2023-04-20 22:53:45 (258 MB/s) - ‘climateSentiment.csv.zip’ saved [2589663/2589663]\n",
            "\n"
          ]
        }
      ]
    },
    {
      "cell_type": "code",
      "source": [
        "!unzip climateSentiment.csv.zip"
      ],
      "metadata": {
        "colab": {
          "base_uri": "https://localhost:8080/"
        },
        "id": "Y4mqrM0R382x",
        "outputId": "c06f5623-9d87-429a-fbf8-4c0d6d00d90a"
      },
      "execution_count": 23,
      "outputs": [
        {
          "output_type": "stream",
          "name": "stdout",
          "text": [
            "Archive:  climateSentiment.csv.zip\n",
            "  inflating: climate.csv             \n"
          ]
        }
      ]
    },
    {
      "cell_type": "code",
      "execution_count": 24,
      "metadata": {
        "id": "gvC3tJUiCppb",
        "colab": {
          "base_uri": "https://localhost:8080/",
          "height": 419
        },
        "outputId": "4478dd92-36d5-474f-9ba6-7f8fd1f3183e"
      },
      "outputs": [
        {
          "output_type": "execute_result",
          "data": {
            "text/plain": [
              "      sentiment                                            message  \\\n",
              "0          Anti  @tiniebeany climate change is an interesting h...   \n",
              "1           Pro  RT @NatGeoChannel: Watch #BeforeTheFlood right...   \n",
              "2           Pro  Fabulous! Leonardo #DiCaprio's film on #climat...   \n",
              "3           Pro  RT @Mick_Fanning: Just watched this amazing do...   \n",
              "4          News  RT @cnalive: Pranita Biswasi, a Lutheran from ...   \n",
              "...         ...                                                ...   \n",
              "43938       Pro  Dear @realDonaldTrump,\\nYeah right. Human Medi...   \n",
              "43939       Pro  What will your respective parties do to preven...   \n",
              "43940      News  RT @MikkiL: UN Poll Shows Climate Change Is th...   \n",
              "43941   Neutral  RT @taehbeingextra: i still can$q$t believe th...   \n",
              "43942       Pro  @Likeabat77 @zachhaller \\n\\nThe wealthy + foss...   \n",
              "\n",
              "                  tweetid  \n",
              "0      792927353886371840  \n",
              "1      793124211518832641  \n",
              "2      793124402388832256  \n",
              "3      793124635873275904  \n",
              "4      793125156185137153  \n",
              "...                   ...  \n",
              "43938  791307031919550464  \n",
              "43939  791316857403936768  \n",
              "43940  791357509101621249  \n",
              "43941  791390042136641537  \n",
              "43942  791401610308038656  \n",
              "\n",
              "[43943 rows x 3 columns]"
            ],
            "text/html": [
              "\n",
              "  <div id=\"df-77a17be0-4bf5-4c78-b5de-231326fc03b1\">\n",
              "    <div class=\"colab-df-container\">\n",
              "      <div>\n",
              "<style scoped>\n",
              "    .dataframe tbody tr th:only-of-type {\n",
              "        vertical-align: middle;\n",
              "    }\n",
              "\n",
              "    .dataframe tbody tr th {\n",
              "        vertical-align: top;\n",
              "    }\n",
              "\n",
              "    .dataframe thead th {\n",
              "        text-align: right;\n",
              "    }\n",
              "</style>\n",
              "<table border=\"1\" class=\"dataframe\">\n",
              "  <thead>\n",
              "    <tr style=\"text-align: right;\">\n",
              "      <th></th>\n",
              "      <th>sentiment</th>\n",
              "      <th>message</th>\n",
              "      <th>tweetid</th>\n",
              "    </tr>\n",
              "  </thead>\n",
              "  <tbody>\n",
              "    <tr>\n",
              "      <th>0</th>\n",
              "      <td>Anti</td>\n",
              "      <td>@tiniebeany climate change is an interesting h...</td>\n",
              "      <td>792927353886371840</td>\n",
              "    </tr>\n",
              "    <tr>\n",
              "      <th>1</th>\n",
              "      <td>Pro</td>\n",
              "      <td>RT @NatGeoChannel: Watch #BeforeTheFlood right...</td>\n",
              "      <td>793124211518832641</td>\n",
              "    </tr>\n",
              "    <tr>\n",
              "      <th>2</th>\n",
              "      <td>Pro</td>\n",
              "      <td>Fabulous! Leonardo #DiCaprio's film on #climat...</td>\n",
              "      <td>793124402388832256</td>\n",
              "    </tr>\n",
              "    <tr>\n",
              "      <th>3</th>\n",
              "      <td>Pro</td>\n",
              "      <td>RT @Mick_Fanning: Just watched this amazing do...</td>\n",
              "      <td>793124635873275904</td>\n",
              "    </tr>\n",
              "    <tr>\n",
              "      <th>4</th>\n",
              "      <td>News</td>\n",
              "      <td>RT @cnalive: Pranita Biswasi, a Lutheran from ...</td>\n",
              "      <td>793125156185137153</td>\n",
              "    </tr>\n",
              "    <tr>\n",
              "      <th>...</th>\n",
              "      <td>...</td>\n",
              "      <td>...</td>\n",
              "      <td>...</td>\n",
              "    </tr>\n",
              "    <tr>\n",
              "      <th>43938</th>\n",
              "      <td>Pro</td>\n",
              "      <td>Dear @realDonaldTrump,\\nYeah right. Human Medi...</td>\n",
              "      <td>791307031919550464</td>\n",
              "    </tr>\n",
              "    <tr>\n",
              "      <th>43939</th>\n",
              "      <td>Pro</td>\n",
              "      <td>What will your respective parties do to preven...</td>\n",
              "      <td>791316857403936768</td>\n",
              "    </tr>\n",
              "    <tr>\n",
              "      <th>43940</th>\n",
              "      <td>News</td>\n",
              "      <td>RT @MikkiL: UN Poll Shows Climate Change Is th...</td>\n",
              "      <td>791357509101621249</td>\n",
              "    </tr>\n",
              "    <tr>\n",
              "      <th>43941</th>\n",
              "      <td>Neutral</td>\n",
              "      <td>RT @taehbeingextra: i still can$q$t believe th...</td>\n",
              "      <td>791390042136641537</td>\n",
              "    </tr>\n",
              "    <tr>\n",
              "      <th>43942</th>\n",
              "      <td>Pro</td>\n",
              "      <td>@Likeabat77 @zachhaller \\n\\nThe wealthy + foss...</td>\n",
              "      <td>791401610308038656</td>\n",
              "    </tr>\n",
              "  </tbody>\n",
              "</table>\n",
              "<p>43943 rows × 3 columns</p>\n",
              "</div>\n",
              "      <button class=\"colab-df-convert\" onclick=\"convertToInteractive('df-77a17be0-4bf5-4c78-b5de-231326fc03b1')\"\n",
              "              title=\"Convert this dataframe to an interactive table.\"\n",
              "              style=\"display:none;\">\n",
              "        \n",
              "  <svg xmlns=\"http://www.w3.org/2000/svg\" height=\"24px\"viewBox=\"0 0 24 24\"\n",
              "       width=\"24px\">\n",
              "    <path d=\"M0 0h24v24H0V0z\" fill=\"none\"/>\n",
              "    <path d=\"M18.56 5.44l.94 2.06.94-2.06 2.06-.94-2.06-.94-.94-2.06-.94 2.06-2.06.94zm-11 1L8.5 8.5l.94-2.06 2.06-.94-2.06-.94L8.5 2.5l-.94 2.06-2.06.94zm10 10l.94 2.06.94-2.06 2.06-.94-2.06-.94-.94-2.06-.94 2.06-2.06.94z\"/><path d=\"M17.41 7.96l-1.37-1.37c-.4-.4-.92-.59-1.43-.59-.52 0-1.04.2-1.43.59L10.3 9.45l-7.72 7.72c-.78.78-.78 2.05 0 2.83L4 21.41c.39.39.9.59 1.41.59.51 0 1.02-.2 1.41-.59l7.78-7.78 2.81-2.81c.8-.78.8-2.07 0-2.86zM5.41 20L4 18.59l7.72-7.72 1.47 1.35L5.41 20z\"/>\n",
              "  </svg>\n",
              "      </button>\n",
              "      \n",
              "  <style>\n",
              "    .colab-df-container {\n",
              "      display:flex;\n",
              "      flex-wrap:wrap;\n",
              "      gap: 12px;\n",
              "    }\n",
              "\n",
              "    .colab-df-convert {\n",
              "      background-color: #E8F0FE;\n",
              "      border: none;\n",
              "      border-radius: 50%;\n",
              "      cursor: pointer;\n",
              "      display: none;\n",
              "      fill: #1967D2;\n",
              "      height: 32px;\n",
              "      padding: 0 0 0 0;\n",
              "      width: 32px;\n",
              "    }\n",
              "\n",
              "    .colab-df-convert:hover {\n",
              "      background-color: #E2EBFA;\n",
              "      box-shadow: 0px 1px 2px rgba(60, 64, 67, 0.3), 0px 1px 3px 1px rgba(60, 64, 67, 0.15);\n",
              "      fill: #174EA6;\n",
              "    }\n",
              "\n",
              "    [theme=dark] .colab-df-convert {\n",
              "      background-color: #3B4455;\n",
              "      fill: #D2E3FC;\n",
              "    }\n",
              "\n",
              "    [theme=dark] .colab-df-convert:hover {\n",
              "      background-color: #434B5C;\n",
              "      box-shadow: 0px 1px 3px 1px rgba(0, 0, 0, 0.15);\n",
              "      filter: drop-shadow(0px 1px 2px rgba(0, 0, 0, 0.3));\n",
              "      fill: #FFFFFF;\n",
              "    }\n",
              "  </style>\n",
              "\n",
              "      <script>\n",
              "        const buttonEl =\n",
              "          document.querySelector('#df-77a17be0-4bf5-4c78-b5de-231326fc03b1 button.colab-df-convert');\n",
              "        buttonEl.style.display =\n",
              "          google.colab.kernel.accessAllowed ? 'block' : 'none';\n",
              "\n",
              "        async function convertToInteractive(key) {\n",
              "          const element = document.querySelector('#df-77a17be0-4bf5-4c78-b5de-231326fc03b1');\n",
              "          const dataTable =\n",
              "            await google.colab.kernel.invokeFunction('convertToInteractive',\n",
              "                                                     [key], {});\n",
              "          if (!dataTable) return;\n",
              "\n",
              "          const docLinkHtml = 'Like what you see? Visit the ' +\n",
              "            '<a target=\"_blank\" href=https://colab.research.google.com/notebooks/data_table.ipynb>data table notebook</a>'\n",
              "            + ' to learn more about interactive tables.';\n",
              "          element.innerHTML = '';\n",
              "          dataTable['output_type'] = 'display_data';\n",
              "          await google.colab.output.renderOutput(dataTable, element);\n",
              "          const docLink = document.createElement('div');\n",
              "          docLink.innerHTML = docLinkHtml;\n",
              "          element.appendChild(docLink);\n",
              "        }\n",
              "      </script>\n",
              "    </div>\n",
              "  </div>\n",
              "  "
            ]
          },
          "metadata": {},
          "execution_count": 24
        }
      ],
      "source": [
        "cc_tweets = pd.read_csv('climate.csv')\n",
        "cc_tweets"
      ]
    },
    {
      "cell_type": "code",
      "execution_count": 25,
      "metadata": {
        "id": "10bOFMCa-2Y9",
        "colab": {
          "base_uri": "https://localhost:8080/",
          "height": 419
        },
        "outputId": "7b918b63-db05-4f4d-8eb6-d44c0c050b64"
      },
      "outputs": [
        {
          "output_type": "execute_result",
          "data": {
            "text/plain": [
              "       sentiment                                            message  \\\n",
              "0              3  @tiniebeany climate change is an interesting h...   \n",
              "1              1  RT @NatGeoChannel: Watch #BeforeTheFlood right...   \n",
              "2              1  Fabulous! Leonardo #DiCaprio's film on #climat...   \n",
              "3              1  RT @Mick_Fanning: Just watched this amazing do...   \n",
              "4              0  RT @cnalive: Pranita Biswasi, a Lutheran from ...   \n",
              "...          ...                                                ...   \n",
              "43938          1  Dear @realDonaldTrump,\\nYeah right. Human Medi...   \n",
              "43939          1  What will your respective parties do to preven...   \n",
              "43940          0  RT @MikkiL: UN Poll Shows Climate Change Is th...   \n",
              "43941          2  RT @taehbeingextra: i still can$q$t believe th...   \n",
              "43942          1  @Likeabat77 @zachhaller \\n\\nThe wealthy + foss...   \n",
              "\n",
              "                  tweetid  \n",
              "0      792927353886371840  \n",
              "1      793124211518832641  \n",
              "2      793124402388832256  \n",
              "3      793124635873275904  \n",
              "4      793125156185137153  \n",
              "...                   ...  \n",
              "43938  791307031919550464  \n",
              "43939  791316857403936768  \n",
              "43940  791357509101621249  \n",
              "43941  791390042136641537  \n",
              "43942  791401610308038656  \n",
              "\n",
              "[43943 rows x 3 columns]"
            ],
            "text/html": [
              "\n",
              "  <div id=\"df-ee90639a-022f-4958-9801-9af04a045e60\">\n",
              "    <div class=\"colab-df-container\">\n",
              "      <div>\n",
              "<style scoped>\n",
              "    .dataframe tbody tr th:only-of-type {\n",
              "        vertical-align: middle;\n",
              "    }\n",
              "\n",
              "    .dataframe tbody tr th {\n",
              "        vertical-align: top;\n",
              "    }\n",
              "\n",
              "    .dataframe thead th {\n",
              "        text-align: right;\n",
              "    }\n",
              "</style>\n",
              "<table border=\"1\" class=\"dataframe\">\n",
              "  <thead>\n",
              "    <tr style=\"text-align: right;\">\n",
              "      <th></th>\n",
              "      <th>sentiment</th>\n",
              "      <th>message</th>\n",
              "      <th>tweetid</th>\n",
              "    </tr>\n",
              "  </thead>\n",
              "  <tbody>\n",
              "    <tr>\n",
              "      <th>0</th>\n",
              "      <td>3</td>\n",
              "      <td>@tiniebeany climate change is an interesting h...</td>\n",
              "      <td>792927353886371840</td>\n",
              "    </tr>\n",
              "    <tr>\n",
              "      <th>1</th>\n",
              "      <td>1</td>\n",
              "      <td>RT @NatGeoChannel: Watch #BeforeTheFlood right...</td>\n",
              "      <td>793124211518832641</td>\n",
              "    </tr>\n",
              "    <tr>\n",
              "      <th>2</th>\n",
              "      <td>1</td>\n",
              "      <td>Fabulous! Leonardo #DiCaprio's film on #climat...</td>\n",
              "      <td>793124402388832256</td>\n",
              "    </tr>\n",
              "    <tr>\n",
              "      <th>3</th>\n",
              "      <td>1</td>\n",
              "      <td>RT @Mick_Fanning: Just watched this amazing do...</td>\n",
              "      <td>793124635873275904</td>\n",
              "    </tr>\n",
              "    <tr>\n",
              "      <th>4</th>\n",
              "      <td>0</td>\n",
              "      <td>RT @cnalive: Pranita Biswasi, a Lutheran from ...</td>\n",
              "      <td>793125156185137153</td>\n",
              "    </tr>\n",
              "    <tr>\n",
              "      <th>...</th>\n",
              "      <td>...</td>\n",
              "      <td>...</td>\n",
              "      <td>...</td>\n",
              "    </tr>\n",
              "    <tr>\n",
              "      <th>43938</th>\n",
              "      <td>1</td>\n",
              "      <td>Dear @realDonaldTrump,\\nYeah right. Human Medi...</td>\n",
              "      <td>791307031919550464</td>\n",
              "    </tr>\n",
              "    <tr>\n",
              "      <th>43939</th>\n",
              "      <td>1</td>\n",
              "      <td>What will your respective parties do to preven...</td>\n",
              "      <td>791316857403936768</td>\n",
              "    </tr>\n",
              "    <tr>\n",
              "      <th>43940</th>\n",
              "      <td>0</td>\n",
              "      <td>RT @MikkiL: UN Poll Shows Climate Change Is th...</td>\n",
              "      <td>791357509101621249</td>\n",
              "    </tr>\n",
              "    <tr>\n",
              "      <th>43941</th>\n",
              "      <td>2</td>\n",
              "      <td>RT @taehbeingextra: i still can$q$t believe th...</td>\n",
              "      <td>791390042136641537</td>\n",
              "    </tr>\n",
              "    <tr>\n",
              "      <th>43942</th>\n",
              "      <td>1</td>\n",
              "      <td>@Likeabat77 @zachhaller \\n\\nThe wealthy + foss...</td>\n",
              "      <td>791401610308038656</td>\n",
              "    </tr>\n",
              "  </tbody>\n",
              "</table>\n",
              "<p>43943 rows × 3 columns</p>\n",
              "</div>\n",
              "      <button class=\"colab-df-convert\" onclick=\"convertToInteractive('df-ee90639a-022f-4958-9801-9af04a045e60')\"\n",
              "              title=\"Convert this dataframe to an interactive table.\"\n",
              "              style=\"display:none;\">\n",
              "        \n",
              "  <svg xmlns=\"http://www.w3.org/2000/svg\" height=\"24px\"viewBox=\"0 0 24 24\"\n",
              "       width=\"24px\">\n",
              "    <path d=\"M0 0h24v24H0V0z\" fill=\"none\"/>\n",
              "    <path d=\"M18.56 5.44l.94 2.06.94-2.06 2.06-.94-2.06-.94-.94-2.06-.94 2.06-2.06.94zm-11 1L8.5 8.5l.94-2.06 2.06-.94-2.06-.94L8.5 2.5l-.94 2.06-2.06.94zm10 10l.94 2.06.94-2.06 2.06-.94-2.06-.94-.94-2.06-.94 2.06-2.06.94z\"/><path d=\"M17.41 7.96l-1.37-1.37c-.4-.4-.92-.59-1.43-.59-.52 0-1.04.2-1.43.59L10.3 9.45l-7.72 7.72c-.78.78-.78 2.05 0 2.83L4 21.41c.39.39.9.59 1.41.59.51 0 1.02-.2 1.41-.59l7.78-7.78 2.81-2.81c.8-.78.8-2.07 0-2.86zM5.41 20L4 18.59l7.72-7.72 1.47 1.35L5.41 20z\"/>\n",
              "  </svg>\n",
              "      </button>\n",
              "      \n",
              "  <style>\n",
              "    .colab-df-container {\n",
              "      display:flex;\n",
              "      flex-wrap:wrap;\n",
              "      gap: 12px;\n",
              "    }\n",
              "\n",
              "    .colab-df-convert {\n",
              "      background-color: #E8F0FE;\n",
              "      border: none;\n",
              "      border-radius: 50%;\n",
              "      cursor: pointer;\n",
              "      display: none;\n",
              "      fill: #1967D2;\n",
              "      height: 32px;\n",
              "      padding: 0 0 0 0;\n",
              "      width: 32px;\n",
              "    }\n",
              "\n",
              "    .colab-df-convert:hover {\n",
              "      background-color: #E2EBFA;\n",
              "      box-shadow: 0px 1px 2px rgba(60, 64, 67, 0.3), 0px 1px 3px 1px rgba(60, 64, 67, 0.15);\n",
              "      fill: #174EA6;\n",
              "    }\n",
              "\n",
              "    [theme=dark] .colab-df-convert {\n",
              "      background-color: #3B4455;\n",
              "      fill: #D2E3FC;\n",
              "    }\n",
              "\n",
              "    [theme=dark] .colab-df-convert:hover {\n",
              "      background-color: #434B5C;\n",
              "      box-shadow: 0px 1px 3px 1px rgba(0, 0, 0, 0.15);\n",
              "      filter: drop-shadow(0px 1px 2px rgba(0, 0, 0, 0.3));\n",
              "      fill: #FFFFFF;\n",
              "    }\n",
              "  </style>\n",
              "\n",
              "      <script>\n",
              "        const buttonEl =\n",
              "          document.querySelector('#df-ee90639a-022f-4958-9801-9af04a045e60 button.colab-df-convert');\n",
              "        buttonEl.style.display =\n",
              "          google.colab.kernel.accessAllowed ? 'block' : 'none';\n",
              "\n",
              "        async function convertToInteractive(key) {\n",
              "          const element = document.querySelector('#df-ee90639a-022f-4958-9801-9af04a045e60');\n",
              "          const dataTable =\n",
              "            await google.colab.kernel.invokeFunction('convertToInteractive',\n",
              "                                                     [key], {});\n",
              "          if (!dataTable) return;\n",
              "\n",
              "          const docLinkHtml = 'Like what you see? Visit the ' +\n",
              "            '<a target=\"_blank\" href=https://colab.research.google.com/notebooks/data_table.ipynb>data table notebook</a>'\n",
              "            + ' to learn more about interactive tables.';\n",
              "          element.innerHTML = '';\n",
              "          dataTable['output_type'] = 'display_data';\n",
              "          await google.colab.output.renderOutput(dataTable, element);\n",
              "          const docLink = document.createElement('div');\n",
              "          docLink.innerHTML = docLinkHtml;\n",
              "          element.appendChild(docLink);\n",
              "        }\n",
              "      </script>\n",
              "    </div>\n",
              "  </div>\n",
              "  "
            ]
          },
          "metadata": {},
          "execution_count": 25
        }
      ],
      "source": [
        "# I'm converting the labels because the instructions said so, but I think we can also leave them as strings \n",
        "# and use \"categorical_crossentropy\"\n",
        "custom_mapping = {'News': 0, 'Pro': 1, 'Neutral': 2, 'Anti': 3}\n",
        "# change the value on the df\n",
        "cc_tweets['sentiment'] = cc_tweets['sentiment'].map(custom_mapping)\n",
        "cc_tweets"
      ]
    },
    {
      "cell_type": "code",
      "execution_count": 26,
      "metadata": {
        "id": "4H5XRUog_as5"
      },
      "outputs": [],
      "source": [
        "# labels\n",
        "cc_labels = cc_tweets['sentiment']\n",
        "# features\n",
        "cc_text = cc_tweets.message"
      ]
    },
    {
      "cell_type": "code",
      "execution_count": null,
      "metadata": {
        "id": "GXTd0E9wBZQK"
      },
      "outputs": [],
      "source": [
        "cc_text"
      ]
    },
    {
      "cell_type": "code",
      "execution_count": 30,
      "metadata": {
        "id": "uTiI3Ejz_rRe",
        "colab": {
          "base_uri": "https://localhost:8080/"
        },
        "outputId": "9be7658b-0e9b-4b5c-fe91-928e6f2ab5bc"
      },
      "outputs": [
        {
          "output_type": "execute_result",
          "data": {
            "text/plain": [
              "array([0.        , 0.83715075, 0.85454543, ..., 0.        , 0.        ,\n",
              "       0.        ])"
            ]
          },
          "metadata": {},
          "execution_count": 30
        }
      ],
      "source": [
        "# tokenization\n",
        "cc_tokenizer = Tokenizer(num_words=5000)\n",
        "cc_tokenizer.fit_on_texts(cc_text)\n",
        "\n",
        "#tfidf matrix\n",
        "ohe_matrix = cc_tokenizer.texts_to_matrix(cc_text, mode='tfidf')\n",
        "\n",
        "ohe_matrix[0]"
      ]
    },
    {
      "cell_type": "code",
      "source": [
        "#training and testing\n",
        "cc_train_text, cc_test_text, cc_train_labels, cc_test_labels = train_test_split(ohe_matrix, cc_labels, test_size=0.2, random_state=42)\n",
        "cc_test_labels"
      ],
      "metadata": {
        "colab": {
          "base_uri": "https://localhost:8080/"
        },
        "id": "NpCHJE4277g_",
        "outputId": "6771410c-2601-44fa-bca6-cc264c6e4fbd"
      },
      "execution_count": 31,
      "outputs": [
        {
          "output_type": "execute_result",
          "data": {
            "text/plain": [
              "34461    2\n",
              "20916    0\n",
              "14218    1\n",
              "30674    2\n",
              "32400    1\n",
              "        ..\n",
              "33649    1\n",
              "5523     1\n",
              "25031    1\n",
              "5638     1\n",
              "17989    0\n",
              "Name: sentiment, Length: 8789, dtype: int64"
            ]
          },
          "metadata": {},
          "execution_count": 31
        }
      ]
    },
    {
      "cell_type": "markdown",
      "metadata": {
        "id": "JzPe1NnLpeG3"
      },
      "source": [
        "![](https://raw.githubusercontent.com/zacharski/datamining-guide/master/labs/pics/PyDivideTwo.png)\n",
        "## <font color='#EE4C2C'>2. Create a deep learning densely connected network.</font> \n",
        "\n",
        "You can decide how many layers and how many nodes per layer. Keep in mind that for the imdb task the last layer was:\n",
        "\n",
        "```\n",
        "network.add(layers.Dense(1, activation='sigmoid'))\n",
        "```\n",
        "\n",
        "The `1` was selected because we only had a binary choice (positive or negative). `sigmoid` was also selected because we had a binary choice.  This will not be the same for this task. In the imdb example, we used the binary_crossentropy loss function because, again, we only had a binary choice.\n",
        "\n",
        "Create the network, compile it, and fit it to the data. "
      ]
    },
    {
      "cell_type": "code",
      "execution_count": 38,
      "metadata": {
        "id": "4_TOQQHKBKHG"
      },
      "outputs": [],
      "source": [
        "# network\n",
        "model = models.Sequential()\n",
        "model.add(layers.Dense(1024, activation='relu', input_shape=(5000, )))\n",
        "model.add(layers.Dense(512, activation='relu'))\n",
        "model.add(layers.Dense(256, activation='relu'))\n",
        "model.add(layers.Dense(128, activation='relu'))\n",
        "model.add(layers.Dense(64, activation='relu'))\n",
        "model.add(layers.Dense(4, activation='softmax'))"
      ]
    },
    {
      "cell_type": "code",
      "execution_count": 41,
      "metadata": {
        "id": "g3MqPKtsEalS"
      },
      "outputs": [],
      "source": [
        "# compile\n",
        "model.compile(optimizer=optimizers.RMSprop(learning_rate=1e-4),\n",
        "              loss='sparse_categorical_crossentropy',\n",
        "              metrics=['accuracy'])"
      ]
    },
    {
      "cell_type": "code",
      "execution_count": null,
      "metadata": {
        "id": "ob7PnaBgFB__"
      },
      "outputs": [],
      "source": [
        "# fit\n",
        "cc_history = model.fit(cc_train_text, cc_train_labels,\n",
        "                       steps_per_epoch = 100,\n",
        "                       epochs = 30,\n",
        "                       validation_split=0.2,\n",
        "                       validation_steps=50)"
      ]
    },
    {
      "cell_type": "markdown",
      "metadata": {
        "id": "cMNg3FIoqrEE"
      },
      "source": [
        "![](https://raw.githubusercontent.com/zacharski/datamining-guide/master/labs/pics/PyDivideTwo.png)\n",
        "## <font color='#EE4C2C'>2. Plot the accuracy and loss for both the training and validation sets.</font> \n",
        "\n",
        "Also, state in a few sentences what you see in the plots."
      ]
    },
    {
      "cell_type": "code",
      "execution_count": 43,
      "metadata": {
        "id": "bBr_F10YFOzJ",
        "colab": {
          "base_uri": "https://localhost:8080/",
          "height": 887
        },
        "outputId": "7a8ee471-07af-4ac7-815c-facb2763e0c7"
      },
      "outputs": [
        {
          "output_type": "display_data",
          "data": {
            "text/plain": [
              "<Figure size 640x480 with 1 Axes>"
            ],
            "image/png": "[encoded data removed]"
          },
          "metadata": {}
        },
        {
          "output_type": "display_data",
          "data": {
            "text/plain": [
              "<Figure size 640x480 with 1 Axes>"
            ],
            "image/png": "[encoded data removed]"
          },
          "metadata": {}
        }
      ],
      "source": [
        "acc = cc_history.history['accuracy']\n",
        "val_acc = cc_history.history['val_accuracy']\n",
        "loss = cc_history.history['loss']\n",
        "val_loss = cc_history.history['val_loss']\n",
        "\n",
        "epochs = range(len(acc))\n",
        "\n",
        "plt.plot(epochs, acc, 'bo', label='Training acc')\n",
        "plt.plot(epochs, val_acc, 'b', label='Validation acc')\n",
        "plt.title('Training and validation accuracy')\n",
        "plt.legend()\n",
        "\n",
        "plt.figure()\n",
        "\n",
        "plt.plot(epochs, loss, 'bo', label='Training loss')\n",
        "plt.plot(epochs, val_loss, 'b', label='Validation loss')\n",
        "plt.title('Training and validation loss')\n",
        "plt.legend()\n",
        "\n",
        "plt.show()"
      ]
    },
    {
      "cell_type": "markdown",
      "source": [
        "The model is clearly overfitting"
      ],
      "metadata": {
        "id": "D-83-AU2BGy7"
      }
    },
    {
      "cell_type": "markdown",
      "metadata": {
        "id": "5qipxYocrmy6"
      },
      "source": [
        "![](https://raw.githubusercontent.com/zacharski/datamining-guide/master/labs/pics/PyDivideTwo.png)\n",
        "## <font color='#EE4C2C'>4. Accuracy on the test data</font> \n",
        "\n",
        "What is the accuracy on the test data?"
      ]
    },
    {
      "cell_type": "code",
      "execution_count": 44,
      "metadata": {
        "id": "Kh9VDWCGFfGc",
        "colab": {
          "base_uri": "https://localhost:8080/"
        },
        "outputId": "7ffd8957-3785-40c9-adc6-d139994b7444"
      },
      "outputs": [
        {
          "output_type": "stream",
          "name": "stdout",
          "text": [
            "275/275 [==============================] - 1s 3ms/step - loss: 2.1811 - accuracy: 0.7171\n",
            "Accuracy:  0.7171464562416077\n"
          ]
        }
      ],
      "source": [
        "cc_scoreSeg = model.evaluate(cc_test_text, cc_test_labels)\n",
        "print(\"Accuracy: \", cc_scoreSeg[1])"
      ]
    },
    {
      "cell_type": "markdown",
      "source": [
        "The accuracy on test data is 72%, not so good"
      ],
      "metadata": {
        "id": "F7A7-oahBZEp"
      }
    },
    {
      "cell_type": "markdown",
      "metadata": {
        "id": "f6sHJ2hEryR3"
      },
      "source": [
        "![](https://raw.githubusercontent.com/zacharski/datamining-guide/master/labs/pics/PyDivideTwo.png)\n",
        "## <font color='#EE4C2C'>5. Can you do better than the baseline accuracy? +5-10 xp</font> \n",
        "Can you create a network that has better accuracy than that shown in #4 above?\n",
        "\n",
        "You can change:\n",
        "\n",
        "* the number of layers, \n",
        "* the number of nodes in each layer\n",
        "* change the `num_words` used in the tokenizer\n",
        "* add one or more dropout layers\n"
      ]
    },
    {
      "cell_type": "code",
      "execution_count": 74,
      "metadata": {
        "id": "-0U5UMresDkj"
      },
      "outputs": [],
      "source": [
        "from keras.backend import dropout\n",
        "# Let's see\n",
        "model2 = models.Sequential()\n",
        "model2.add(layers.Dense(512, activation='relu', input_shape=(5000, )))\n",
        "model2.add(layers.Dense(256, activation='relu'))\n",
        "model2.add(layers.Dense(128, activation='relu'))\n",
        "model2.add(layers.Dropout(0.3))\n",
        "model2.add(layers.Dense(4, activation='softmax'))"
      ]
    },
    {
      "cell_type": "code",
      "source": [
        "# compile\n",
        "model2.compile(optimizer=optimizers.RMSprop(learning_rate=1e-4),\n",
        "              loss='sparse_categorical_crossentropy',\n",
        "              metrics=['accuracy'])"
      ],
      "metadata": {
        "id": "K7WEwK34EBct"
      },
      "execution_count": 75,
      "outputs": []
    },
    {
      "cell_type": "code",
      "source": [
        "# fit\n",
        "cc_history2 = model2.fit(cc_train_text, cc_train_labels,\n",
        "                       steps_per_epoch = 30,\n",
        "                       epochs = 100,\n",
        "                       validation_split=0.2,\n",
        "                       validation_steps=50)"
      ],
      "metadata": {
        "colab": {
          "base_uri": "https://localhost:8080/"
        },
        "id": "hIDpnEd2ELE7",
        "outputId": "82815247-e991-4555-9c15-e61506b15d79"
      },
      "execution_count": 76,
      "outputs": [
        {
          "output_type": "stream",
          "name": "stdout",
          "text": [
            "Epoch 1/100\n",
            "30/30 [==============================] - 2s 48ms/step - loss: 1.1564 - accuracy: 0.5145 - val_loss: 1.0323 - val_accuracy: 0.5523\n",
            "Epoch 2/100\n",
            "30/30 [==============================] - 1s 24ms/step - loss: 0.9534 - accuracy: 0.6125 - val_loss: 0.8792 - val_accuracy: 0.6443\n",
            "Epoch 3/100\n",
            "30/30 [==============================] - 1s 21ms/step - loss: 0.7889 - accuracy: 0.6901 - val_loss: 0.7790 - val_accuracy: 0.6898\n",
            "Epoch 4/100\n",
            "30/30 [==============================] - 1s 27ms/step - loss: 0.6709 - accuracy: 0.7423 - val_loss: 0.7313 - val_accuracy: 0.7074\n",
            "Epoch 5/100\n",
            "30/30 [==============================] - 1s 22ms/step - loss: 0.5804 - accuracy: 0.7803 - val_loss: 0.7072 - val_accuracy: 0.7184\n",
            "Epoch 6/100\n",
            "30/30 [==============================] - 1s 27ms/step - loss: 0.4999 - accuracy: 0.8160 - val_loss: 0.6889 - val_accuracy: 0.7274\n",
            "Epoch 7/100\n",
            "30/30 [==============================] - 1s 22ms/step - loss: 0.4336 - accuracy: 0.8461 - val_loss: 0.6882 - val_accuracy: 0.7265\n",
            "Epoch 8/100\n",
            "30/30 [==============================] - 1s 21ms/step - loss: 0.3731 - accuracy: 0.8709 - val_loss: 0.6964 - val_accuracy: 0.7299\n",
            "Epoch 9/100\n",
            "30/30 [==============================] - 1s 21ms/step - loss: 0.3226 - accuracy: 0.8898 - val_loss: 0.7154 - val_accuracy: 0.7303\n",
            "Epoch 10/100\n",
            "30/30 [==============================] - 1s 21ms/step - loss: 0.2743 - accuracy: 0.9095 - val_loss: 0.7404 - val_accuracy: 0.7305\n",
            "Epoch 11/100\n",
            "30/30 [==============================] - 1s 22ms/step - loss: 0.2321 - accuracy: 0.9265 - val_loss: 0.7679 - val_accuracy: 0.7285\n",
            "Epoch 12/100\n",
            "30/30 [==============================] - 1s 21ms/step - loss: 0.1942 - accuracy: 0.9410 - val_loss: 0.8061 - val_accuracy: 0.7302\n",
            "Epoch 13/100\n",
            "30/30 [==============================] - 1s 28ms/step - loss: 0.1607 - accuracy: 0.9519 - val_loss: 0.8434 - val_accuracy: 0.7265\n",
            "Epoch 14/100\n",
            "30/30 [==============================] - 1s 21ms/step - loss: 0.1345 - accuracy: 0.9608 - val_loss: 0.8859 - val_accuracy: 0.7279\n",
            "Epoch 15/100\n",
            "30/30 [==============================] - 1s 20ms/step - loss: 0.1099 - accuracy: 0.9693 - val_loss: 0.9363 - val_accuracy: 0.7308\n",
            "Epoch 16/100\n",
            "30/30 [==============================] - 1s 21ms/step - loss: 0.0895 - accuracy: 0.9770 - val_loss: 0.9949 - val_accuracy: 0.7274\n",
            "Epoch 17/100\n",
            "30/30 [==============================] - 1s 29ms/step - loss: 0.0732 - accuracy: 0.9812 - val_loss: 1.0585 - val_accuracy: 0.7278\n",
            "Epoch 18/100\n",
            "30/30 [==============================] - 1s 30ms/step - loss: 0.0602 - accuracy: 0.9847 - val_loss: 1.1355 - val_accuracy: 0.7305\n",
            "Epoch 19/100\n",
            "30/30 [==============================] - 1s 22ms/step - loss: 0.0500 - accuracy: 0.9870 - val_loss: 1.1872 - val_accuracy: 0.7258\n",
            "Epoch 20/100\n",
            "30/30 [==============================] - 1s 22ms/step - loss: 0.0419 - accuracy: 0.9898 - val_loss: 1.2427 - val_accuracy: 0.7245\n",
            "Epoch 21/100\n",
            "30/30 [==============================] - 1s 22ms/step - loss: 0.0346 - accuracy: 0.9914 - val_loss: 1.3064 - val_accuracy: 0.7245\n",
            "Epoch 22/100\n",
            "30/30 [==============================] - 1s 21ms/step - loss: 0.0310 - accuracy: 0.9919 - val_loss: 1.3760 - val_accuracy: 0.7274\n",
            "Epoch 23/100\n",
            "30/30 [==============================] - 1s 21ms/step - loss: 0.0262 - accuracy: 0.9932 - val_loss: 1.4150 - val_accuracy: 0.7210\n",
            "Epoch 24/100\n",
            "30/30 [==============================] - 1s 21ms/step - loss: 0.0236 - accuracy: 0.9935 - val_loss: 1.4708 - val_accuracy: 0.7204\n",
            "Epoch 25/100\n",
            "30/30 [==============================] - 1s 22ms/step - loss: 0.0214 - accuracy: 0.9940 - val_loss: 1.5065 - val_accuracy: 0.7153\n",
            "Epoch 26/100\n",
            "30/30 [==============================] - 1s 27ms/step - loss: 0.0188 - accuracy: 0.9945 - val_loss: 1.6008 - val_accuracy: 0.7252\n",
            "Epoch 27/100\n",
            "30/30 [==============================] - 1s 21ms/step - loss: 0.0177 - accuracy: 0.9947 - val_loss: 1.6216 - val_accuracy: 0.7244\n",
            "Epoch 28/100\n",
            "30/30 [==============================] - 1s 27ms/step - loss: 0.0167 - accuracy: 0.9948 - val_loss: 1.6573 - val_accuracy: 0.7214\n",
            "Epoch 29/100\n",
            "30/30 [==============================] - 1s 27ms/step - loss: 0.0154 - accuracy: 0.9953 - val_loss: 1.6825 - val_accuracy: 0.7180\n",
            "Epoch 30/100\n",
            "30/30 [==============================] - 1s 21ms/step - loss: 0.0152 - accuracy: 0.9951 - val_loss: 1.7130 - val_accuracy: 0.7180\n",
            "Epoch 31/100\n",
            "30/30 [==============================] - 1s 21ms/step - loss: 0.0140 - accuracy: 0.9954 - val_loss: 1.7354 - val_accuracy: 0.7180\n",
            "Epoch 32/100\n",
            "30/30 [==============================] - 1s 21ms/step - loss: 0.0129 - accuracy: 0.9959 - val_loss: 1.7691 - val_accuracy: 0.7181\n",
            "Epoch 33/100\n",
            "30/30 [==============================] - 1s 24ms/step - loss: 0.0126 - accuracy: 0.9960 - val_loss: 1.7903 - val_accuracy: 0.7164\n",
            "Epoch 34/100\n",
            "30/30 [==============================] - 1s 25ms/step - loss: 0.0122 - accuracy: 0.9958 - val_loss: 1.8102 - val_accuracy: 0.7154\n",
            "Epoch 35/100\n",
            "30/30 [==============================] - 1s 24ms/step - loss: 0.0123 - accuracy: 0.9959 - val_loss: 1.8684 - val_accuracy: 0.7215\n",
            "Epoch 36/100\n",
            "30/30 [==============================] - 1s 21ms/step - loss: 0.0114 - accuracy: 0.9963 - val_loss: 1.9022 - val_accuracy: 0.7205\n",
            "Epoch 37/100\n",
            "30/30 [==============================] - 1s 26ms/step - loss: 0.0119 - accuracy: 0.9959 - val_loss: 1.8873 - val_accuracy: 0.7161\n",
            "Epoch 38/100\n",
            "30/30 [==============================] - 1s 21ms/step - loss: 0.0119 - accuracy: 0.9956 - val_loss: 1.8885 - val_accuracy: 0.7128\n",
            "Epoch 39/100\n",
            "30/30 [==============================] - 1s 21ms/step - loss: 0.0105 - accuracy: 0.9962 - val_loss: 1.9615 - val_accuracy: 0.7212\n",
            "Epoch 40/100\n",
            "30/30 [==============================] - 1s 21ms/step - loss: 0.0111 - accuracy: 0.9958 - val_loss: 1.9753 - val_accuracy: 0.7194\n",
            "Epoch 41/100\n",
            "30/30 [==============================] - 1s 20ms/step - loss: 0.0109 - accuracy: 0.9961 - val_loss: 1.9764 - val_accuracy: 0.7181\n",
            "Epoch 42/100\n",
            "30/30 [==============================] - 1s 20ms/step - loss: 0.0107 - accuracy: 0.9959 - val_loss: 1.9985 - val_accuracy: 0.7204\n",
            "Epoch 43/100\n",
            "30/30 [==============================] - 1s 20ms/step - loss: 0.0108 - accuracy: 0.9961 - val_loss: 1.9912 - val_accuracy: 0.7154\n",
            "Epoch 44/100\n",
            "30/30 [==============================] - 1s 20ms/step - loss: 0.0101 - accuracy: 0.9964 - val_loss: 2.0229 - val_accuracy: 0.7188\n",
            "Epoch 45/100\n",
            "30/30 [==============================] - 1s 20ms/step - loss: 0.0100 - accuracy: 0.9962 - val_loss: 2.0225 - val_accuracy: 0.7170\n",
            "Epoch 46/100\n",
            "30/30 [==============================] - 1s 21ms/step - loss: 0.0099 - accuracy: 0.9965 - val_loss: 2.0823 - val_accuracy: 0.7188\n",
            "Epoch 47/100\n",
            "30/30 [==============================] - 1s 20ms/step - loss: 0.0095 - accuracy: 0.9963 - val_loss: 2.0475 - val_accuracy: 0.7138\n",
            "Epoch 48/100\n",
            "30/30 [==============================] - 1s 21ms/step - loss: 0.0102 - accuracy: 0.9961 - val_loss: 2.0706 - val_accuracy: 0.7185\n",
            "Epoch 49/100\n",
            "30/30 [==============================] - 1s 22ms/step - loss: 0.0097 - accuracy: 0.9963 - val_loss: 2.0801 - val_accuracy: 0.7150\n",
            "Epoch 50/100\n",
            "30/30 [==============================] - 1s 22ms/step - loss: 0.0098 - accuracy: 0.9963 - val_loss: 2.0737 - val_accuracy: 0.7076\n",
            "Epoch 51/100\n",
            "30/30 [==============================] - 1s 26ms/step - loss: 0.0089 - accuracy: 0.9967 - val_loss: 2.1144 - val_accuracy: 0.7171\n",
            "Epoch 52/100\n",
            "30/30 [==============================] - 1s 29ms/step - loss: 0.0092 - accuracy: 0.9965 - val_loss: 2.0977 - val_accuracy: 0.7145\n",
            "Epoch 53/100\n",
            "30/30 [==============================] - 1s 27ms/step - loss: 0.0091 - accuracy: 0.9967 - val_loss: 2.1303 - val_accuracy: 0.7130\n",
            "Epoch 54/100\n",
            "30/30 [==============================] - 1s 21ms/step - loss: 0.0097 - accuracy: 0.9965 - val_loss: 2.1161 - val_accuracy: 0.7046\n",
            "Epoch 55/100\n",
            "30/30 [==============================] - 1s 21ms/step - loss: 0.0088 - accuracy: 0.9967 - val_loss: 2.1905 - val_accuracy: 0.7167\n",
            "Epoch 56/100\n",
            "30/30 [==============================] - 1s 22ms/step - loss: 0.0084 - accuracy: 0.9966 - val_loss: 2.1479 - val_accuracy: 0.7141\n",
            "Epoch 57/100\n",
            "30/30 [==============================] - 1s 21ms/step - loss: 0.0092 - accuracy: 0.9968 - val_loss: 2.1798 - val_accuracy: 0.7173\n",
            "Epoch 58/100\n",
            "30/30 [==============================] - 1s 21ms/step - loss: 0.0093 - accuracy: 0.9964 - val_loss: 2.1566 - val_accuracy: 0.7077\n",
            "Epoch 59/100\n",
            "30/30 [==============================] - 1s 21ms/step - loss: 0.0088 - accuracy: 0.9970 - val_loss: 2.1812 - val_accuracy: 0.7147\n",
            "Epoch 60/100\n",
            "30/30 [==============================] - 1s 21ms/step - loss: 0.0090 - accuracy: 0.9967 - val_loss: 2.1810 - val_accuracy: 0.7144\n",
            "Epoch 61/100\n",
            "30/30 [==============================] - 1s 21ms/step - loss: 0.0090 - accuracy: 0.9968 - val_loss: 2.1859 - val_accuracy: 0.7155\n",
            "Epoch 62/100\n",
            "30/30 [==============================] - 1s 21ms/step - loss: 0.0083 - accuracy: 0.9969 - val_loss: 2.1869 - val_accuracy: 0.7030\n",
            "Epoch 63/100\n",
            "30/30 [==============================] - 1s 20ms/step - loss: 0.0083 - accuracy: 0.9969 - val_loss: 2.2192 - val_accuracy: 0.7121\n",
            "Epoch 64/100\n",
            "30/30 [==============================] - 1s 21ms/step - loss: 0.0088 - accuracy: 0.9968 - val_loss: 2.1990 - val_accuracy: 0.7062\n",
            "Epoch 65/100\n",
            "30/30 [==============================] - 1s 20ms/step - loss: 0.0083 - accuracy: 0.9969 - val_loss: 2.2287 - val_accuracy: 0.7157\n",
            "Epoch 66/100\n",
            "30/30 [==============================] - 1s 21ms/step - loss: 0.0083 - accuracy: 0.9969 - val_loss: 2.2095 - val_accuracy: 0.7087\n",
            "Epoch 67/100\n",
            "30/30 [==============================] - 1s 20ms/step - loss: 0.0085 - accuracy: 0.9970 - val_loss: 2.2319 - val_accuracy: 0.7097\n",
            "Epoch 68/100\n",
            "30/30 [==============================] - 1s 26ms/step - loss: 0.0079 - accuracy: 0.9970 - val_loss: 2.2314 - val_accuracy: 0.7077\n",
            "Epoch 69/100\n",
            "30/30 [==============================] - 1s 29ms/step - loss: 0.0080 - accuracy: 0.9970 - val_loss: 2.2412 - val_accuracy: 0.7073\n",
            "Epoch 70/100\n",
            "30/30 [==============================] - 1s 28ms/step - loss: 0.0079 - accuracy: 0.9970 - val_loss: 2.2551 - val_accuracy: 0.7091\n",
            "Epoch 71/100\n",
            "30/30 [==============================] - 1s 22ms/step - loss: 0.0078 - accuracy: 0.9968 - val_loss: 2.2653 - val_accuracy: 0.7121\n",
            "Epoch 72/100\n",
            "30/30 [==============================] - 1s 21ms/step - loss: 0.0077 - accuracy: 0.9969 - val_loss: 2.2766 - val_accuracy: 0.7093\n",
            "Epoch 73/100\n",
            "30/30 [==============================] - 1s 21ms/step - loss: 0.0077 - accuracy: 0.9971 - val_loss: 2.2901 - val_accuracy: 0.7064\n",
            "Epoch 74/100\n",
            "30/30 [==============================] - 1s 21ms/step - loss: 0.0079 - accuracy: 0.9969 - val_loss: 2.2974 - val_accuracy: 0.7066\n",
            "Epoch 75/100\n",
            "30/30 [==============================] - 1s 21ms/step - loss: 0.0075 - accuracy: 0.9969 - val_loss: 2.2964 - val_accuracy: 0.7060\n",
            "Epoch 76/100\n",
            "30/30 [==============================] - 1s 21ms/step - loss: 0.0077 - accuracy: 0.9969 - val_loss: 2.3031 - val_accuracy: 0.7096\n",
            "Epoch 77/100\n",
            "30/30 [==============================] - 1s 21ms/step - loss: 0.0075 - accuracy: 0.9969 - val_loss: 2.3051 - val_accuracy: 0.7111\n",
            "Epoch 78/100\n",
            "30/30 [==============================] - 1s 23ms/step - loss: 0.0076 - accuracy: 0.9970 - val_loss: 2.3050 - val_accuracy: 0.7070\n",
            "Epoch 79/100\n",
            "30/30 [==============================] - 1s 21ms/step - loss: 0.0074 - accuracy: 0.9972 - val_loss: 2.3119 - val_accuracy: 0.7066\n",
            "Epoch 80/100\n",
            "30/30 [==============================] - 1s 22ms/step - loss: 0.0075 - accuracy: 0.9968 - val_loss: 2.3048 - val_accuracy: 0.7063\n",
            "Epoch 81/100\n",
            "30/30 [==============================] - 1s 22ms/step - loss: 0.0077 - accuracy: 0.9971 - val_loss: 2.3227 - val_accuracy: 0.7106\n",
            "Epoch 82/100\n",
            "30/30 [==============================] - 1s 21ms/step - loss: 0.0072 - accuracy: 0.9971 - val_loss: 2.3448 - val_accuracy: 0.7094\n",
            "Epoch 83/100\n",
            "30/30 [==============================] - 1s 21ms/step - loss: 0.0078 - accuracy: 0.9969 - val_loss: 2.3488 - val_accuracy: 0.7069\n",
            "Epoch 84/100\n",
            "30/30 [==============================] - 1s 21ms/step - loss: 0.0072 - accuracy: 0.9973 - val_loss: 2.3696 - val_accuracy: 0.7141\n",
            "Epoch 85/100\n",
            "30/30 [==============================] - 1s 23ms/step - loss: 0.0074 - accuracy: 0.9968 - val_loss: 2.3593 - val_accuracy: 0.7116\n",
            "Epoch 86/100\n",
            "30/30 [==============================] - 1s 25ms/step - loss: 0.0074 - accuracy: 0.9972 - val_loss: 2.3721 - val_accuracy: 0.7109\n",
            "Epoch 87/100\n",
            "30/30 [==============================] - 1s 26ms/step - loss: 0.0071 - accuracy: 0.9973 - val_loss: 2.4090 - val_accuracy: 0.7096\n",
            "Epoch 88/100\n",
            "30/30 [==============================] - 1s 21ms/step - loss: 0.0070 - accuracy: 0.9972 - val_loss: 2.3947 - val_accuracy: 0.7093\n",
            "Epoch 89/100\n",
            "30/30 [==============================] - 1s 22ms/step - loss: 0.0071 - accuracy: 0.9969 - val_loss: 2.3946 - val_accuracy: 0.7093\n",
            "Epoch 90/100\n",
            "30/30 [==============================] - 1s 21ms/step - loss: 0.0072 - accuracy: 0.9972 - val_loss: 2.4017 - val_accuracy: 0.7110\n",
            "Epoch 91/100\n",
            "30/30 [==============================] - 1s 21ms/step - loss: 0.0070 - accuracy: 0.9970 - val_loss: 2.4077 - val_accuracy: 0.7110\n",
            "Epoch 92/100\n",
            "30/30 [==============================] - 1s 22ms/step - loss: 0.0071 - accuracy: 0.9972 - val_loss: 2.4367 - val_accuracy: 0.7128\n",
            "Epoch 93/100\n",
            "30/30 [==============================] - 1s 21ms/step - loss: 0.0071 - accuracy: 0.9971 - val_loss: 2.4072 - val_accuracy: 0.7079\n",
            "Epoch 94/100\n",
            "30/30 [==============================] - 1s 22ms/step - loss: 0.0066 - accuracy: 0.9972 - val_loss: 2.4403 - val_accuracy: 0.7097\n",
            "Epoch 95/100\n",
            "30/30 [==============================] - 1s 21ms/step - loss: 0.0072 - accuracy: 0.9970 - val_loss: 2.4284 - val_accuracy: 0.7091\n",
            "Epoch 96/100\n",
            "30/30 [==============================] - 1s 21ms/step - loss: 0.0068 - accuracy: 0.9973 - val_loss: 2.4457 - val_accuracy: 0.7093\n",
            "Epoch 97/100\n",
            "30/30 [==============================] - 1s 21ms/step - loss: 0.0069 - accuracy: 0.9971 - val_loss: 2.4390 - val_accuracy: 0.7050\n",
            "Epoch 98/100\n",
            "30/30 [==============================] - 1s 21ms/step - loss: 0.0069 - accuracy: 0.9970 - val_loss: 2.4538 - val_accuracy: 0.7096\n",
            "Epoch 99/100\n",
            "30/30 [==============================] - 1s 20ms/step - loss: 0.0071 - accuracy: 0.9972 - val_loss: 2.4430 - val_accuracy: 0.7080\n",
            "Epoch 100/100\n",
            "30/30 [==============================] - 1s 21ms/step - loss: 0.0066 - accuracy: 0.9972 - val_loss: 2.4675 - val_accuracy: 0.7130\n"
          ]
        }
      ]
    },
    {
      "cell_type": "code",
      "source": [
        "scoreSeg3 = model2.evaluate(imdb_test_text, imdb_test_labels)\n",
        "print(\"Accuracy: \", scoreSeg3[1])"
      ],
      "metadata": {
        "colab": {
          "base_uri": "https://localhost:8080/"
        },
        "id": "YXD3OnFEINey",
        "outputId": "3961ab1b-1d1e-40fe-b933-7bb5ad1e579c"
      },
      "execution_count": 77,
      "outputs": [
        {
          "output_type": "stream",
          "name": "stdout",
          "text": [
            "313/313 [==============================] - 1s 2ms/step - loss: 35.4327 - accuracy: 0.4984\n",
            "Accuracy:  0.4984000027179718\n"
          ]
        }
      ]
    },
    {
      "cell_type": "code",
      "source": [
        "# I tried several variations but couldn't get a better accuracy. No xp for me ):\n",
        "# If I wasn't stdying for my finals, I could keep trying"
      ],
      "metadata": {
        "id": "cDGhJIB5IeNc"
      },
      "execution_count": null,
      "outputs": []
    }
  ],
  "metadata": {
    "accelerator": "GPU",
    "colab": {
      "provenance": [],
      "include_colab_link": true
    },
    "kernelspec": {
      "display_name": "Python 3 (ipykernel)",
      "language": "python",
      "name": "python3"
    },
    "language_info": {
      "codemirror_mode": {
        "name": "ipython",
        "version": 3
      },
      "file_extension": ".py",
      "mimetype": "text/x-python",
      "name": "python",
      "nbconvert_exporter": "python",
      "pygments_lexer": "ipython3",
      "version": "3.9.12"
    }
  },
  "nbformat": 4,
  "nbformat_minor": 0
}